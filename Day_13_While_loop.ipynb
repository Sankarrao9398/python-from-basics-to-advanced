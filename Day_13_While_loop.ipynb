{
  "nbformat": 4,
  "nbformat_minor": 0,
  "metadata": {
    "colab": {
      "provenance": []
    },
    "kernelspec": {
      "name": "python3",
      "display_name": "Python 3"
    },
    "language_info": {
      "name": "python"
    }
  },
  "cells": [
    {
      "cell_type": "markdown",
      "source": [
        "write a python program to print 1-10 using while loop\n",
        "\n",
        "\n",
        "---\n",
        "\n"
      ],
      "metadata": {
        "id": "FbkU5JQVpIEs"
      }
    },
    {
      "cell_type": "code",
      "execution_count": null,
      "metadata": {
        "colab": {
          "base_uri": "https://localhost:8080/"
        },
        "id": "1i7yxfzbo4EQ",
        "outputId": "a38fcf61-ccef-46ee-915f-ab520605a2db"
      },
      "outputs": [
        {
          "output_type": "stream",
          "name": "stdout",
          "text": [
            "1\n",
            "2\n",
            "3\n",
            "4\n",
            "5\n",
            "6\n",
            "7\n",
            "8\n",
            "9\n",
            "10\n"
          ]
        }
      ],
      "source": [
        "n=1\n",
        "while n<=10:\n",
        "  print(n)\n",
        "  n=n+1"
      ]
    },
    {
      "cell_type": "markdown",
      "source": [
        "write a python program to print 15-25 using while loop"
      ],
      "metadata": {
        "id": "pjriTU0ipws9"
      }
    },
    {
      "cell_type": "code",
      "source": [
        "n=15\n",
        "while n<=25:\n",
        "  print(n)\n",
        "  n=n+1"
      ],
      "metadata": {
        "colab": {
          "base_uri": "https://localhost:8080/"
        },
        "id": "yWbjgOeapzus",
        "outputId": "e9c0705c-8c6b-4f48-de72-72d4ad38b9a5"
      },
      "execution_count": null,
      "outputs": [
        {
          "output_type": "stream",
          "name": "stdout",
          "text": [
            "15\n",
            "16\n",
            "17\n",
            "18\n",
            "19\n",
            "20\n",
            "21\n",
            "22\n",
            "23\n",
            "24\n",
            "25\n"
          ]
        }
      ]
    },
    {
      "cell_type": "markdown",
      "source": [
        "python program from 15-25 and sum of even numbers using while loop\n"
      ],
      "metadata": {
        "id": "jgiff1SXp5Yn"
      }
    },
    {
      "cell_type": "code",
      "source": [
        "n=15\n",
        "sum=0\n",
        "while n<=25:\n",
        "  if n%2==0:\n",
        "    print(n)\n",
        "    sum=sum+n\n",
        "  n=n+1\n",
        "print(sum)\n"
      ],
      "metadata": {
        "id": "9iLYDXsIqDBV",
        "colab": {
          "base_uri": "https://localhost:8080/"
        },
        "outputId": "313f89bb-be39-4258-d920-4296c3ee8c4f"
      },
      "execution_count": null,
      "outputs": [
        {
          "output_type": "stream",
          "name": "stdout",
          "text": [
            "16\n",
            "18\n",
            "20\n",
            "22\n",
            "24\n",
            "100\n"
          ]
        }
      ]
    },
    {
      "cell_type": "markdown",
      "source": [
        "print a python program 10-1\n"
      ],
      "metadata": {
        "id": "fkLrDvySrjB_"
      }
    },
    {
      "cell_type": "code",
      "source": [
        "n=10\n",
        "while n>=1:\n",
        "  print(n)\n",
        "  n=n-1\n"
      ],
      "metadata": {
        "colab": {
          "base_uri": "https://localhost:8080/"
        },
        "id": "duQhlmmurnFS",
        "outputId": "9d140200-9be2-460c-ec59-906106c6ff58"
      },
      "execution_count": null,
      "outputs": [
        {
          "output_type": "stream",
          "name": "stdout",
          "text": [
            "10\n",
            "9\n",
            "8\n",
            "7\n",
            "6\n",
            "5\n",
            "4\n",
            "3\n",
            "2\n",
            "1\n"
          ]
        }
      ]
    },
    {
      "cell_type": "markdown",
      "source": [
        "print a python program 10-1 using while loop and print odd numbers\n"
      ],
      "metadata": {
        "id": "PW6q26PZr2v1"
      }
    },
    {
      "cell_type": "code",
      "source": [
        "n=10\n",
        "sum=0\n",
        "while n>=1:\n",
        "  if n%2==1:\n",
        "    print(n)\n",
        "    sum=sum+n\n",
        "  n=n-1\n",
        "print(sum)"
      ],
      "metadata": {
        "colab": {
          "base_uri": "https://localhost:8080/"
        },
        "id": "C3DWkytMr6yl",
        "outputId": "b3711d3b-6f42-4d65-c116-9c61d404428b"
      },
      "execution_count": null,
      "outputs": [
        {
          "output_type": "stream",
          "name": "stdout",
          "text": [
            "9\n",
            "7\n",
            "5\n",
            "3\n",
            "1\n",
            "25\n"
          ]
        }
      ]
    },
    {
      "cell_type": "markdown",
      "source": [
        "python program while else\n"
      ],
      "metadata": {
        "id": "f1tSciwnsTYe"
      }
    },
    {
      "cell_type": "code",
      "source": [
        "n=100\n",
        "while n>0:\n",
        "  print(n)\n",
        "  n=n-1\n",
        "else:\n",
        "  print(\"break loop\")"
      ],
      "metadata": {
        "id": "hVFfPDe8sZcq",
        "colab": {
          "base_uri": "https://localhost:8080/"
        },
        "outputId": "46949cd3-7990-49cd-e545-90a7f09fb753"
      },
      "execution_count": null,
      "outputs": [
        {
          "output_type": "stream",
          "name": "stdout",
          "text": [
            "100\n",
            "99\n",
            "98\n",
            "97\n",
            "96\n",
            "95\n",
            "94\n",
            "93\n",
            "92\n",
            "91\n",
            "90\n",
            "89\n",
            "88\n",
            "87\n",
            "86\n",
            "85\n",
            "84\n",
            "83\n",
            "82\n",
            "81\n",
            "80\n",
            "79\n",
            "78\n",
            "77\n",
            "76\n",
            "75\n",
            "74\n",
            "73\n",
            "72\n",
            "71\n",
            "70\n",
            "69\n",
            "68\n",
            "67\n",
            "66\n",
            "65\n",
            "64\n",
            "63\n",
            "62\n",
            "61\n",
            "60\n",
            "59\n",
            "58\n",
            "57\n",
            "56\n",
            "55\n",
            "54\n",
            "53\n",
            "52\n",
            "51\n",
            "50\n",
            "49\n",
            "48\n",
            "47\n",
            "46\n",
            "45\n",
            "44\n",
            "43\n",
            "42\n",
            "41\n",
            "40\n",
            "39\n",
            "38\n",
            "37\n",
            "36\n",
            "35\n",
            "34\n",
            "33\n",
            "32\n",
            "31\n",
            "30\n",
            "29\n",
            "28\n",
            "27\n",
            "26\n",
            "25\n",
            "24\n",
            "23\n",
            "22\n",
            "21\n",
            "20\n",
            "19\n",
            "18\n",
            "17\n",
            "16\n",
            "15\n",
            "14\n",
            "13\n",
            "12\n",
            "11\n",
            "10\n",
            "9\n",
            "8\n",
            "7\n",
            "6\n",
            "5\n",
            "4\n",
            "3\n",
            "2\n",
            "1\n",
            "break loop\n"
          ]
        }
      ]
    }
  ]
}