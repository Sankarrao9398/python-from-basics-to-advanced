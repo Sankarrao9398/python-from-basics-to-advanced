{
  "nbformat": 4,
  "nbformat_minor": 0,
  "metadata": {
    "colab": {
      "provenance": []
    },
    "kernelspec": {
      "name": "python3",
      "display_name": "Python 3"
    },
    "language_info": {
      "name": "python"
    }
  },
  "cells": [
    {
      "cell_type": "markdown",
      "source": [
        "1. Arithmetic Operators Task – Budget Planner\n",
        "Question:You have ₹1500 in your wallet.\n",
        "You spend:\n",
        " ₹300 on food\n",
        " ₹250 on transport\n",
        " ₹400 on shopping\n",
        "You also earn ₹500 from freelance work.\n",
        "Calculate:\n",
        "1. Total money spent\n",
        "2. Final balance in wallet\n",
        "3. Percentage of total income spent\n",
        "A:-"
      ],
      "metadata": {
        "id": "ZRX-BZUNiLLn"
      }
    },
    {
      "cell_type": "code",
      "execution_count": null,
      "metadata": {
        "colab": {
          "base_uri": "https://localhost:8080/"
        },
        "id": "y_XvdpMjh_xy",
        "outputId": "15fa8053-9966-4e03-ea79-06cacaa02614"
      },
      "outputs": [
        {
          "output_type": "stream",
          "name": "stdout",
          "text": [
            "Total money spent: 950\n",
            "Final balance in wallet: 1050\n",
            "Percentage of total income spent: 47.5 %\n"
          ]
        }
      ],
      "source": [
        " total_money = 1500\n",
        "spent_food = 300\n",
        "spent_transport = 250\n",
        "spent_shopping = 400\n",
        "earn_freelance = 500\n",
        "total_spent = spent_food + spent_transport + spent_shopping\n",
        "final_balance = total_money - total_spent + earn_freelance\n",
        "total_income = total_money + earn_freelance\n",
        "percent_spent = (total_spent / total_income) * 100\n",
        "print(\"Total money spent:\", total_spent)\n",
        "print(\"Final balance in wallet:\", final_balance)\n",
        "print(\"Percentage of total income spent:\", percent_spent, \"%\")\n"
      ]
    },
    {
      "cell_type": "markdown",
      "source": [
        "2. Assignment Operators Task – Game Score Tracker\n",
        "Question:\n",
        "You are playing a game. Your score changes as follows:\n",
        " Start with score = 0\n",
        " In Level 1, you gain 10 points → use +=\n",
        " You get a bonus of 5 points → use +=\n",
        " In Level 2, you lose 3 points → use -=\n",
        " You use a booster that doubles your score → use *=\n",
        "Show the score after each change.\n"
      ],
      "metadata": {
        "id": "LjZnF1xfifgz"
      }
    },
    {
      "cell_type": "code",
      "source": [
        "\n",
        "score = 0\n",
        "print(\"Initial score:\", score)\n",
        "score += 10\n",
        "print(\"After Level 1 (+10):\", score)\n",
        "score += 5\n",
        "print(\"After bonus (+5):\", score)\n",
        "score -= 3\n",
        "print(\"After Level 2 (-3):\", score)\n",
        "score *= 2\n",
        "print(\"After booster (*2):\", score)\n"
      ],
      "metadata": {
        "colab": {
          "base_uri": "https://localhost:8080/"
        },
        "id": "a9pbNrdKielu",
        "outputId": "a8264998-5284-4fdd-b2c3-990d2ee53c4b"
      },
      "execution_count": null,
      "outputs": [
        {
          "output_type": "stream",
          "name": "stdout",
          "text": [
            "Initial score: 0\n",
            "After Level 1 (+10): 10\n",
            "After bonus (+5): 15\n",
            "After Level 2 (-3): 12\n",
            "After booster (*2): 24\n"
          ]
        }
      ]
    },
    {
      "cell_type": "markdown",
      "source": [
        "\n",
        "3. Comparison Operators Task – College Admission Check\n",
        "Question:\n",
        "To get admission in a college, you need at least 60% marks.\n",
        "Ask the user to input their percentage. Then check:\n",
        " Did the student qualify? (>= 60)\n",
        "Is their percentage exactly equal to 60?\n",
        "Did they get less than the cutoff?"
      ],
      "metadata": {
        "id": "KWiQh1n-ixzB"
      }
    },
    {
      "cell_type": "code",
      "source": [
        "\n",
        "p = float(input(\"Enter %: \"))\n",
        "print(p >= 60, p == 60, p < 60)\n"
      ],
      "metadata": {
        "colab": {
          "base_uri": "https://localhost:8080/"
        },
        "id": "KT4dgSaki4nI",
        "outputId": "e37dac34-aba7-4c4b-e72d-84f5c6d16fac"
      },
      "execution_count": null,
      "outputs": [
        {
          "output_type": "stream",
          "name": "stdout",
          "text": [
            "Enter %: 65\n",
            "True False False\n"
          ]
        }
      ]
    },
    {
      "cell_type": "markdown",
      "source": [
        "\n",
        "4. Logical Operators Task – Laptop Purchase Decision\n",
        "Question:\n",
        "You want to buy a laptop. You can only buy it if:\n",
        " You have more than ₹50,000 or\n",
        " Your parents are helping you\n",
        "Ask the user:\n",
        " How much money do you have?\n",
        " Are your parents helping? (yes/no)\n",
        "Print:\n",
        " \"You can buy the laptop\" if any one is true\n",
        " \"Self-funded\" if only you have enough and no parental help\n",
        "\"Not possible now\" if none are true\n",
        "A:-"
      ],
      "metadata": {
        "id": "vF7kNrEFjAAr"
      }
    },
    {
      "cell_type": "code",
      "source": [
        "m = int(input(\"Money? \"))\n",
        "p = input(\"Parents help? (yes/no): \").lower()\n",
        "print(\"You can buy\" if m > 50000 or p == 'yes' else \"Not possible now\")\n",
        "if m > 50000 and p == 'no': print(\"Self-funded\")\n"
      ],
      "metadata": {
        "colab": {
          "base_uri": "https://localhost:8080/"
        },
        "id": "p5lhsYfXi_IE",
        "outputId": "2ce8e40a-5c2a-4cf5-f31f-db746d2616d5"
      },
      "execution_count": null,
      "outputs": [
        {
          "output_type": "stream",
          "name": "stdout",
          "text": [
            "Money? 60000\n",
            "Parents help? (yes/no): yes\n",
            "You can buy\n"
          ]
        }
      ]
    },
    {
      "cell_type": "markdown",
      "source": [
        "5. Logical Operators Task – Health Check Eligibility\n",
        "Question:\n",
        "To be eligible for a free health check-up:\n",
        " Your age must be greater than 40\n",
        " You should not have done a check-up in the last year\n",
        "Ask:\n",
        " Age\n",
        " Did you have a check-up last year? (yes/no)\n",
        "Print whether the person is eligible or not.\n",
        "Explanation:\n",
        " Use age > 40\n",
        "Use not with \"yes\" or \"no\" to check eligibility\n"
      ],
      "metadata": {
        "id": "a51uzRPjjiQB"
      }
    },
    {
      "cell_type": "code",
      "source": [
        "age = int(input(\"Enter your age: \"))\n",
        "checkup = input(\"Did you have a check-up last year? (yes/no): \").lower()\n",
        "if age > 40 and checkup == \"no\":\n",
        "  print(\"Eligible for free health check-up\")\n",
        "else:\n",
        "  print(\"Not eligible for free health check-up\")"
      ],
      "metadata": {
        "colab": {
          "base_uri": "https://localhost:8080/"
        },
        "id": "8KrYJ3Q8jhh8",
        "outputId": "6c5a61aa-5c1e-41e0-d88b-66854d69484c"
      },
      "execution_count": null,
      "outputs": [
        {
          "output_type": "stream",
          "name": "stdout",
          "text": [
            "Enter your age: 24\n",
            "Did you have a check-up last year? (yes/no): yes\n",
            "Not eligible for free health check-up\n"
          ]
        }
      ]
    }
  ]
}