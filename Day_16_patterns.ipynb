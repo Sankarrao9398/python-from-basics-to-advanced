{
  "nbformat": 4,
  "nbformat_minor": 0,
  "metadata": {
    "colab": {
      "provenance": []
    },
    "kernelspec": {
      "name": "python3",
      "display_name": "Python 3"
    },
    "language_info": {
      "name": "python"
    }
  },
  "cells": [
    {
      "cell_type": "markdown",
      "source": [
        "print ** pattern"
      ],
      "metadata": {
        "id": "foButkFBsXBZ"
      }
    },
    {
      "cell_type": "code",
      "source": [
        "for i in range(1,3):\n",
        "  print(\"*\",end=\"\")"
      ],
      "metadata": {
        "colab": {
          "base_uri": "https://localhost:8080/"
        },
        "id": "5D-s2NYJsbrn",
        "outputId": "c368f39b-64c7-4a5a-e11c-a13f0b1fa38e"
      },
      "execution_count": null,
      "outputs": [
        {
          "output_type": "stream",
          "name": "stdout",
          "text": [
            "**"
          ]
        }
      ]
    },
    {
      "cell_type": "markdown",
      "source": [
        "print pattern 2 rows 2 column"
      ],
      "metadata": {
        "id": "6agXxH5ms24m"
      }
    },
    {
      "cell_type": "code",
      "source": [
        "for i in range(1,3):\n",
        "  for j in range(1,3):\n",
        "    print(\"*\",end=\"\")\n",
        "  print()"
      ],
      "metadata": {
        "colab": {
          "base_uri": "https://localhost:8080/"
        },
        "id": "EG1nFAyes6HE",
        "outputId": "4d1be166-9dd5-4466-c364-35f49c8dc52a"
      },
      "execution_count": null,
      "outputs": [
        {
          "output_type": "stream",
          "name": "stdout",
          "text": [
            "**\n",
            "**\n"
          ]
        }
      ]
    },
    {
      "cell_type": "markdown",
      "source": [
        "print pattern 3 rows 3 columns"
      ],
      "metadata": {
        "id": "DMzV0pQPtOmF"
      }
    },
    {
      "cell_type": "code",
      "source": [
        "for i in range(1,3):\n",
        "  for j in range(1,4):\n",
        "    print(\"*\",end=\"\")\n",
        "  print()"
      ],
      "metadata": {
        "colab": {
          "base_uri": "https://localhost:8080/"
        },
        "id": "7yOvWuautSTT",
        "outputId": "6e358b27-ffa7-4aea-8c5c-97f767b39c1c"
      },
      "execution_count": null,
      "outputs": [
        {
          "output_type": "stream",
          "name": "stdout",
          "text": [
            "***\n",
            "***\n"
          ]
        }
      ]
    },
    {
      "cell_type": "markdown",
      "source": [
        "print pattern 6 rows 6 columns"
      ],
      "metadata": {
        "id": "czgYMd4ntnIe"
      }
    },
    {
      "cell_type": "code",
      "source": [
        "for i in range(1,7):\n",
        "  for j in range(1,7):\n",
        "    print(\"*\",end=\"\")\n",
        "  print()"
      ],
      "metadata": {
        "colab": {
          "base_uri": "https://localhost:8080/"
        },
        "id": "8__UeQk_tp_h",
        "outputId": "d946ef84-7e9f-40aa-f8be-e94f6b2d6c2d"
      },
      "execution_count": null,
      "outputs": [
        {
          "output_type": "stream",
          "name": "stdout",
          "text": [
            "******\n",
            "******\n",
            "******\n",
            "******\n",
            "******\n",
            "******\n"
          ]
        }
      ]
    },
    {
      "cell_type": "markdown",
      "source": [
        "print 12345 pattern"
      ],
      "metadata": {
        "id": "PHllpa77t2BL"
      }
    },
    {
      "cell_type": "code",
      "source": [
        "for i in range(1,6):\n",
        "  print(i,end=\"\")"
      ],
      "metadata": {
        "colab": {
          "base_uri": "https://localhost:8080/"
        },
        "id": "FiiyTJB_t4i7",
        "outputId": "1167999c-d39d-4401-ac87-440b3c57a6cf"
      },
      "execution_count": null,
      "outputs": [
        {
          "output_type": "stream",
          "name": "stdout",
          "text": [
            "12345"
          ]
        }
      ]
    },
    {
      "cell_type": "markdown",
      "source": [
        "print 12345 in 2 rows"
      ],
      "metadata": {
        "id": "Mpx9HpKQuMuM"
      }
    },
    {
      "cell_type": "code",
      "source": [
        "for i in range(1,3):\n",
        "  for j in range(1,6):\n",
        "    print(j,end=\"\")\n",
        "  print()"
      ],
      "metadata": {
        "colab": {
          "base_uri": "https://localhost:8080/"
        },
        "id": "HitXcx8kuRLm",
        "outputId": "7f91f5db-7c1b-4398-ee9c-77ac25bf2e9b"
      },
      "execution_count": null,
      "outputs": [
        {
          "output_type": "stream",
          "name": "stdout",
          "text": [
            "12345\n",
            "12345\n"
          ]
        }
      ]
    },
    {
      "cell_type": "markdown",
      "source": [
        "print 12345 in 6 rows"
      ],
      "metadata": {
        "id": "g4T0e-kAuj7S"
      }
    },
    {
      "cell_type": "code",
      "source": [
        "for i in range(1,7):\n",
        "  for j in range(1,7):\n",
        "    print(j,end=\"\")\n",
        "  print()"
      ],
      "metadata": {
        "colab": {
          "base_uri": "https://localhost:8080/"
        },
        "id": "Mm2FYbzkunHr",
        "outputId": "84d87daf-842f-4e1c-a515-44797e0eec82"
      },
      "execution_count": null,
      "outputs": [
        {
          "output_type": "stream",
          "name": "stdout",
          "text": [
            "123456\n",
            "123456\n",
            "123456\n",
            "123456\n",
            "123456\n",
            "123456\n"
          ]
        }
      ]
    },
    {
      "cell_type": "markdown",
      "source": [
        "print 12345 in 10 rows"
      ],
      "metadata": {
        "id": "KFDzya1Quy8S"
      }
    },
    {
      "cell_type": "code",
      "source": [
        "for i in range(1,11):\n",
        "  for j in range(1,7):\n",
        "    print(j,end=\"\")\n",
        "  print()"
      ],
      "metadata": {
        "colab": {
          "base_uri": "https://localhost:8080/"
        },
        "id": "CX7p2jxou3ky",
        "outputId": "dbe423be-a502-4058-e597-ed71bf4a6c0b"
      },
      "execution_count": null,
      "outputs": [
        {
          "output_type": "stream",
          "name": "stdout",
          "text": [
            "123456\n",
            "123456\n",
            "123456\n",
            "123456\n",
            "123456\n",
            "123456\n",
            "123456\n",
            "123456\n",
            "123456\n",
            "123456\n"
          ]
        }
      ]
    },
    {
      "cell_type": "markdown",
      "source": [
        "print * pattern in right angled triangle"
      ],
      "metadata": {
        "id": "RYyo05BzvQaL"
      }
    },
    {
      "cell_type": "code",
      "source": [
        "for i in range(1,6):\n",
        "  for j in range(1,i+1):\n",
        "    print(\"*\",end=\"\")\n",
        "  print()"
      ],
      "metadata": {
        "colab": {
          "base_uri": "https://localhost:8080/"
        },
        "id": "KYsJ13kkvXhi",
        "outputId": "0c5baee2-44ad-4a69-de11-a86731ed4ea5"
      },
      "execution_count": null,
      "outputs": [
        {
          "output_type": "stream",
          "name": "stdout",
          "text": [
            "*\n",
            "**\n",
            "***\n",
            "****\n",
            "*****\n"
          ]
        }
      ]
    },
    {
      "cell_type": "markdown",
      "source": [
        "another method"
      ],
      "metadata": {
        "id": "tQYjSfLJvw22"
      }
    },
    {
      "cell_type": "code",
      "source": [
        "for i in range(1,6):\n",
        "  print(\"\" * (6-i) + \"* \"*i)"
      ],
      "metadata": {
        "colab": {
          "base_uri": "https://localhost:8080/"
        },
        "id": "2NHB5YqIvyj6",
        "outputId": "182007c0-3c30-4789-e848-10be401f345a"
      },
      "execution_count": null,
      "outputs": [
        {
          "output_type": "stream",
          "name": "stdout",
          "text": [
            "* \n",
            "* * \n",
            "* * * \n",
            "* * * * \n",
            "* * * * * \n"
          ]
        }
      ]
    },
    {
      "cell_type": "markdown",
      "source": [
        "another method t0 print pyramid"
      ],
      "metadata": {
        "id": "feMC-jiEw7lH"
      }
    },
    {
      "cell_type": "code",
      "source": [
        "for i in range(1, 7):\n",
        "    print(\" \" * (6 - i) + \"* \" * i)\n"
      ],
      "metadata": {
        "colab": {
          "base_uri": "https://localhost:8080/"
        },
        "id": "lUcQswfbw6Fr",
        "outputId": "6a364feb-0e9d-48df-ba65-e75bf2545825"
      },
      "execution_count": null,
      "outputs": [
        {
          "output_type": "stream",
          "name": "stdout",
          "text": [
            "     * \n",
            "    * * \n",
            "   * * * \n",
            "  * * * * \n",
            " * * * * * \n",
            "* * * * * * \n"
          ]
        }
      ]
    },
    {
      "cell_type": "markdown",
      "source": [
        "right angled triangle Right"
      ],
      "metadata": {
        "id": "-BxDWIbKxPoW"
      }
    },
    {
      "cell_type": "code",
      "source": [
        "for i in range(1, 7):\n",
        "    print(\"  \" * (6 - i) + \"* \" * i)"
      ],
      "metadata": {
        "colab": {
          "base_uri": "https://localhost:8080/"
        },
        "id": "O85Grq-qxOyk",
        "outputId": "34ee6be4-2925-4fba-dcd0-c02f09f99d1e"
      },
      "execution_count": null,
      "outputs": [
        {
          "output_type": "stream",
          "name": "stdout",
          "text": [
            "          * \n",
            "        * * \n",
            "      * * * \n",
            "    * * * * \n",
            "  * * * * * \n",
            "* * * * * * \n"
          ]
        }
      ]
    },
    {
      "cell_type": "markdown",
      "source": [
        "print right angled triangle in numbers format"
      ],
      "metadata": {
        "id": "1VgQEkBaxkXz"
      }
    },
    {
      "cell_type": "code",
      "source": [
        "for i in range(1,6):\n",
        "  for j in range(1,i+1):\n",
        "    print(j,end=\"\")\n",
        "  print()"
      ],
      "metadata": {
        "colab": {
          "base_uri": "https://localhost:8080/"
        },
        "id": "YU0HB3wRxqiv",
        "outputId": "bf6162b0-b8c7-4352-e2a2-02b05eaa41ed"
      },
      "execution_count": null,
      "outputs": [
        {
          "output_type": "stream",
          "name": "stdout",
          "text": [
            "1\n",
            "12\n",
            "123\n",
            "1234\n",
            "12345\n"
          ]
        }
      ]
    },
    {
      "cell_type": "markdown",
      "source": [
        "another method in pyramid"
      ],
      "metadata": {
        "id": "J78OyL9Ax0Vv"
      }
    },
    {
      "cell_type": "code",
      "source": [
        "for i in range(1,6):\n",
        "  print(\" \" * (6-i) + (str(i)+\" \") *i)"
      ],
      "metadata": {
        "colab": {
          "base_uri": "https://localhost:8080/"
        },
        "id": "Zz-cqEgCx2CV",
        "outputId": "72db4ab4-2783-4e71-81a0-47aa314e20b5"
      },
      "execution_count": null,
      "outputs": [
        {
          "output_type": "stream",
          "name": "stdout",
          "text": [
            "     1 \n",
            "    2 2 \n",
            "   3 3 3 \n",
            "  4 4 4 4 \n",
            " 5 5 5 5 5 \n"
          ]
        }
      ]
    }
  ]
}