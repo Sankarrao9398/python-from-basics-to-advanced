{
  "nbformat": 4,
  "nbformat_minor": 0,
  "metadata": {
    "colab": {
      "provenance": []
    },
    "kernelspec": {
      "name": "python3",
      "display_name": "Python 3"
    },
    "language_info": {
      "name": "python"
    }
  },
  "cells": [
    {
      "cell_type": "markdown",
      "source": [
        "Question 1 (Zepto – Grocery Delivery                              \n",
        "Parent Class: Order\n",
        ")\n",
        "• Instance variables: order_id, items, amount (initialize inside __init__)\n",
        "• Method:\n",
        "o show_order() →\n",
        "▪ Create a local variable tax = 50\n",
        "▪ Print all order details + tax\n",
        "Child Class: Delivery\n",
        "• Method:\n",
        "o show_delivery() →\n",
        "▪ First, call parent method show_order()\n",
        "▪ Then print delivery status\n",
        "Object Creation\n",
        "• Create an object of Delivery with all details.\n",
        "• Call show_delivery() → this will show both order (parent) + delivery (child)."
      ],
      "metadata": {
        "id": "Pve_0gIxzn7P"
      }
    },
    {
      "cell_type": "code",
      "execution_count": null,
      "metadata": {
        "colab": {
          "base_uri": "https://localhost:8080/"
        },
        "id": "EtJOneGFSZNH",
        "outputId": "dbd30285-dc30-4504-cdd6-8d20bae9ccf4"
      },
      "outputs": [
        {
          "output_type": "stream",
          "name": "stdout",
          "text": [
            "301\n",
            "['Apples', 'Bananas']\n",
            "800\n",
            "50\n",
            "850\n",
            "Delivered\n"
          ]
        }
      ],
      "source": [
        "class Order:\n",
        "    def __init__(self, order_id, items, amount):\n",
        "        self.order_id = order_id\n",
        "        self.items = items\n",
        "        self.amount = amount\n",
        "\n",
        "    def show_order(self):\n",
        "        tax = 50\n",
        "        print(f\"{self.order_id}\")\n",
        "        print(f\"{self.items}\")\n",
        "        print(f\"{self.amount}\")\n",
        "        print(f\"{tax}\")\n",
        "        print(f\"{self.amount + tax}\")\n",
        "class Delivery(Order):\n",
        "    def __init__(self, order_id, items, amount, status):\n",
        "        super().__init__(order_id, items, amount)\n",
        "        self.status = status\n",
        "    def show_delivery(self):\n",
        "        super().show_order()\n",
        "        print(f\"{self.status}\")\n",
        "order1 = Delivery(301, [\"Apples\", \"Bananas\"], 800, \"Delivered\")\n",
        "order1.show_delivery()"
      ]
    },
    {
      "cell_type": "markdown",
      "source": [
        "Question 2 (Amazon – E-commerce      \n",
        "Parent Class: Product\n",
        ")\n",
        "• Instance variables: name, price, category\n",
        "• Method:\n",
        "o show_product() →\n",
        "▪ Create a local variable platform = \"Amazon\"\n",
        "▪ Print product details + platform\n",
        "Child Class: DiscountedProduct\n",
        "• Method:\n",
        "o show_discount(discount_percentage) →\n",
        "▪ Call show_product() from parent\n",
        "▪ Create a local variable final_price = price - (price * discount_percentage /\n",
        "100)\n",
        "▪ Print discount details + final price\n",
        "Object Creation\n",
        "• Create an object of DiscountedProduct.\n",
        "• Call show_discount() → this will show product details + discounted price."
      ],
      "metadata": {
        "id": "WU_V6HrXz-zr"
      }
    },
    {
      "cell_type": "code",
      "source": [
        "class Product:\n",
        "    def __init__(self, name, price, category):\n",
        "        self.name = name\n",
        "        self.price = price\n",
        "        self.category = category\n",
        "    def show_product(self):\n",
        "        platform = \"Amazon\"\n",
        "        print(f\"{self.name}\")\n",
        "        print(f\"{self.price}\")\n",
        "        print(f\"{self.category}\")\n",
        "        print(f\"{platform}\")\n",
        "class DiscountedProduct(Product):\n",
        "    def show_discount(self, discount_percentage):\n",
        "        super().show_product()\n",
        "        final_price = self.price - (self.price * discount_percentage / 100)\n",
        "        print(f\"{discount_percentage}%\")\n",
        "        print(f\"{final_price}\")\n",
        "item1 = DiscountedProduct(\"Wireless Earbuds\", 2000, \"Electronics\")\n",
        "item1.show_discount(20)"
      ],
      "metadata": {
        "colab": {
          "base_uri": "https://localhost:8080/"
        },
        "id": "-L9CdoOcUnBi",
        "outputId": "f8676019-5c2f-4634-895f-5fbb2a861f65"
      },
      "execution_count": null,
      "outputs": [
        {
          "output_type": "stream",
          "name": "stdout",
          "text": [
            "Wireless Earbuds\n",
            "2000\n",
            "Electronics\n",
            "Amazon\n",
            "20%\n",
            "1600.0\n"
          ]
        }
      ]
    },
    {
      "cell_type": "markdown",
      "source": [
        "Question 3 (Uber – Ride Booking         \n",
        "Parent Class: Ride\n",
        ")\n",
        "• Instance variables: ride_id, pickup, drop\n",
        "• Method:\n",
        "o show_ride() →\n",
        "▪ Create a local variable distance = 12\n",
        "▪ Print ride details + distance\n",
        "Child Class: Driver\n",
        "• Method:\n",
        "o show_driver() →\n",
        "▪ Call show_ride() from parent\n",
        "▪ Print driver status\n",
        "Object Creation\n",
        "• Create an object of Driver.\n",
        "• Call show_driver() → this will show ride (parent) + driver (child).\n",
        "In all 3:\n",
        "• Instance variables → defined only in parent __i"
      ],
      "metadata": {
        "id": "ZnwOE-Rd0LcN"
      }
    },
    {
      "cell_type": "code",
      "source": [
        "class Ride:\n",
        "    def __init__(self, ride_id, pickup, drop):\n",
        "        self.ride_id = ride_id\n",
        "        self.pickup = pickup\n",
        "        self.drop = drop\n",
        "\n",
        "    def show_ride(self):\n",
        "        distance = 12\n",
        "        print(f\"{self.ride_id}\")\n",
        "        print(f\"{self.pickup}\")\n",
        "        print(f\"{self.drop}\")\n",
        "        print(f\"{distance} km\")\n",
        "class Driver(Ride):\n",
        "    def __init__(self, ride_id, pickup, drop, status):\n",
        "        super().__init__(ride_id, pickup, drop)\n",
        "        self.status = status\n",
        "    def show_driver(self):\n",
        "        super().show_ride()\n",
        "        print(f\"{self.status}\")\n",
        "ride1 = Driver(501, \"MVP Colony\", \"RK Beach\", \"On the way\")\n",
        "ride1.show_driver()\n"
      ],
      "metadata": {
        "colab": {
          "base_uri": "https://localhost:8080/"
        },
        "id": "NO9a9pdHVrnN",
        "outputId": "9287160a-6b1d-421e-af28-0b158f68915e"
      },
      "execution_count": null,
      "outputs": [
        {
          "output_type": "stream",
          "name": "stdout",
          "text": [
            "501\n",
            "MVP Colony\n",
            "RK Beach\n",
            "12 km\n",
            "On the way\n"
          ]
        }
      ]
    }
  ]
}