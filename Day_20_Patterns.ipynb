{
  "nbformat": 4,
  "nbformat_minor": 0,
  "metadata": {
    "colab": {
      "provenance": []
    },
    "kernelspec": {
      "name": "python3",
      "display_name": "Python 3"
    },
    "language_info": {
      "name": "python"
    }
  },
  "cells": [
    {
      "cell_type": "code",
      "execution_count": 1,
      "metadata": {
        "colab": {
          "base_uri": "https://localhost:8080/"
        },
        "id": "hpDDNiZqe8Rl",
        "outputId": "588fbb8b-dd46-42be-ec21-e65a8cc2c6b1"
      },
      "outputs": [
        {
          "output_type": "stream",
          "name": "stdout",
          "text": [
            "12345\n",
            " 1234\n",
            "  123\n",
            "   12\n",
            "    1\n"
          ]
        }
      ],
      "source": [
        "rows=5\n",
        "for i in range(rows,0,-1):\n",
        "  print(\" \"*(rows-i),end=\"\")\n",
        "  for j in range(1,i+1):\n",
        "    print(j,end=\"\")\n",
        "  print()"
      ]
    },
    {
      "cell_type": "code",
      "source": [
        "rows=int(input(\"enter a rows here\"))\n",
        "for i in range(rows,0,-1):\n",
        "  print(\" \"*(rows-i),end=\"\")\n",
        "  for j in range(1,i+1):\n",
        "    print(\"*\",end=\"\")\n",
        "  print()"
      ],
      "metadata": {
        "colab": {
          "base_uri": "https://localhost:8080/"
        },
        "id": "zPZKNgdGfmyv",
        "outputId": "115806f8-5d5b-4837-97ab-9284ff9d123f"
      },
      "execution_count": 2,
      "outputs": [
        {
          "output_type": "stream",
          "name": "stdout",
          "text": [
            "enter a rows here6\n",
            "******\n",
            " *****\n",
            "  ****\n",
            "   ***\n",
            "    **\n",
            "     *\n"
          ]
        }
      ]
    },
    {
      "cell_type": "code",
      "source": [
        "rows=int(input(\"enter a rows here\"))\n",
        "for i in range(rows,0,-1):\n",
        "  print(\" \"*(rows-i),end=\"\")\n",
        "  for j in range(1,i+1):\n",
        "    print(i,end=\"\")\n",
        "  print()"
      ],
      "metadata": {
        "colab": {
          "base_uri": "https://localhost:8080/"
        },
        "id": "DRSYn0RxgBmI",
        "outputId": "2d9807f8-5690-4dd5-d314-7b1f90865663"
      },
      "execution_count": 3,
      "outputs": [
        {
          "output_type": "stream",
          "name": "stdout",
          "text": [
            "enter a rows here5\n",
            "55555\n",
            " 4444\n",
            "  333\n",
            "   22\n",
            "    1\n"
          ]
        }
      ]
    },
    {
      "cell_type": "code",
      "source": [
        "rows=int(input(\"enter a rows here\"))\n",
        "n=1\n",
        "for i in range(rows,0,-1):\n",
        "  print(\" \"*(rows-i),end=\"\")\n",
        "  for j in range(1,i+1):\n",
        "    print(n,end=\"\")\n",
        "  n+=1\n",
        "\n",
        "  print()"
      ],
      "metadata": {
        "colab": {
          "base_uri": "https://localhost:8080/"
        },
        "id": "pYk43t5-gcs0",
        "outputId": "49bc55bc-1868-412f-dc1c-1e4f756bdbb0"
      },
      "execution_count": 11,
      "outputs": [
        {
          "output_type": "stream",
          "name": "stdout",
          "text": [
            "enter a rows here5\n",
            "11111\n",
            " 2222\n",
            "  333\n",
            "   44\n",
            "    5\n"
          ]
        }
      ]
    },
    {
      "cell_type": "code",
      "source": [
        "rows=int(input(\"enter a rows here\"))\n",
        "n=1\n",
        "for i in range(rows,0,-1):\n",
        "  print(\" \"*(rows-i),end=\"\")\n",
        "  for j in range(1,i+1):\n",
        "    print(n,end=\"\")\n",
        "\n",
        "  print()"
      ],
      "metadata": {
        "colab": {
          "base_uri": "https://localhost:8080/"
        },
        "id": "EGiie_9YhAhw",
        "outputId": "43bf264e-d83c-41dc-c6a6-8a5a77a5fd95"
      },
      "execution_count": 18,
      "outputs": [
        {
          "output_type": "stream",
          "name": "stdout",
          "text": [
            "enter a rows here6\n",
            "111111\n",
            " 11111\n",
            "  1111\n",
            "   111\n",
            "    11\n",
            "     1\n"
          ]
        }
      ]
    },
    {
      "cell_type": "code",
      "source": [
        "rows=int(input(\"enter a rows here\"))\n",
        "n=1\n",
        "for i in range(rows,0,-1):\n",
        "  print(\" \"*(rows-i),end=\"\")\n",
        "  for j in range(1,i+1):\n",
        "    print(n,end=\"\")\n",
        "  n+=1\n",
        "\n",
        "  print()"
      ],
      "metadata": {
        "colab": {
          "base_uri": "https://localhost:8080/"
        },
        "id": "BGq0DJ0PhD7y",
        "outputId": "637b7a13-6c25-447d-e8bb-b048eaefbe88"
      },
      "execution_count": 59,
      "outputs": [
        {
          "output_type": "stream",
          "name": "stdout",
          "text": [
            "enter a rows here6\n",
            "111111\n",
            " 22222\n",
            "  3333\n",
            "   444\n",
            "    55\n",
            "     6\n"
          ]
        }
      ]
    },
    {
      "cell_type": "code",
      "source": [
        "rows=int(input(\"enter a rows here\"))\n",
        "n=65\n",
        "for i in range(rows,0,-1):\n",
        "  print(\" \"*(rows-i),end=\"\")\n",
        "  for j in range(1,i+1):\n",
        "    print(chr(n),end=\"\")\n",
        "  n+=1\n",
        "\n",
        "  print()"
      ],
      "metadata": {
        "colab": {
          "base_uri": "https://localhost:8080/"
        },
        "id": "eC2yjfp4hmFq",
        "outputId": "8a369094-7979-494d-b2c5-0058ccc6df15"
      },
      "execution_count": 19,
      "outputs": [
        {
          "output_type": "stream",
          "name": "stdout",
          "text": [
            "enter a rows here6\n",
            "AAAAAA\n",
            " BBBBB\n",
            "  CCCC\n",
            "   DDD\n",
            "    EE\n",
            "     F\n"
          ]
        }
      ]
    },
    {
      "cell_type": "code",
      "source": [
        "rows=int(input(\"enter a rows here\"))\n",
        "for i in range(rows,0,-1):\n",
        "  n=65\n",
        "  print(\" \"*(rows-i),end=\"\")\n",
        "  for j in range(1,i+1):\n",
        "    print(chr(n),end=\"\")\n",
        "    n+=1\n",
        "\n",
        "  print()"
      ],
      "metadata": {
        "colab": {
          "base_uri": "https://localhost:8080/"
        },
        "id": "Hh5zfrv1hzEl",
        "outputId": "cdd9717c-6e3c-4814-a5cd-b41e0c6a7de7"
      },
      "execution_count": 20,
      "outputs": [
        {
          "output_type": "stream",
          "name": "stdout",
          "text": [
            "enter a rows here6\n",
            "ABCDEF\n",
            " ABCDE\n",
            "  ABCD\n",
            "   ABC\n",
            "    AB\n",
            "     A\n"
          ]
        }
      ]
    },
    {
      "cell_type": "code",
      "source": [
        "rows=int(input(\"enter a rows here\"))\n",
        "for i in range(rows,0,-1):\n",
        "  n=65\n",
        "  print(\" \"*(rows-i),end=\"\")\n",
        "  for j in range(1,i+1):\n",
        "    print(chr(n),end=\"\")\n",
        "  print()"
      ],
      "metadata": {
        "colab": {
          "base_uri": "https://localhost:8080/"
        },
        "id": "yPY_akXah5rp",
        "outputId": "5a46c7cf-7b10-49d3-e133-751979762f8d"
      },
      "execution_count": 21,
      "outputs": [
        {
          "output_type": "stream",
          "name": "stdout",
          "text": [
            "enter a rows here6\n",
            "AAAAAA\n",
            " AAAAA\n",
            "  AAAA\n",
            "   AAA\n",
            "    AA\n",
            "     A\n"
          ]
        }
      ]
    },
    {
      "cell_type": "code",
      "source": [
        "rows=int(input(\"enter a rows here\"))\n",
        "for i in range(rows,0,-1):\n",
        "  print(\" \"*(rows-i),end=\"\")\n",
        "  for j in range(1,i+1):\n",
        "    if i%2==0:\n",
        "      print(chr(n),end=\"\")\n",
        "      n+=1\n",
        "    else:\n",
        "      print(j,end=\"\")\n",
        "  print()\n",
        "  if i==2 or i==4:\n",
        "    n=65"
      ],
      "metadata": {
        "colab": {
          "base_uri": "https://localhost:8080/"
        },
        "id": "NfbemYu7h9vh",
        "outputId": "56eb1af8-a1e1-4713-f426-726711d2b022"
      },
      "execution_count": 29,
      "outputs": [
        {
          "output_type": "stream",
          "name": "stdout",
          "text": [
            "enter a rows here6\n",
            "ABCDEF\n",
            " 12345\n",
            "  GHIJ\n",
            "   123\n",
            "    AB\n",
            "     1\n"
          ]
        }
      ]
    },
    {
      "cell_type": "code",
      "source": [
        "rows=int(input(\"enter a rows here\"))\n",
        "n=65\n",
        "for i in range(rows,0,-1):\n",
        "\n",
        "  k=65\n",
        "  print(\" \"*(rows-i),end=\"\")\n",
        "  if i==5:\n",
        "    for j in range(1,i+1):\n",
        "      print(chr(n),end=\"\")\n",
        "    n+=1\n",
        "  elif i==4:\n",
        "    for j in range(1,i+1):\n",
        "      print(chr(n),end=\"\")\n",
        "    n+=1\n",
        "  elif i==3 or i==2 or i==1:\n",
        "    for j in range(1,i+1):\n",
        "      print(chr(k),end=\"\")\n",
        "      k+=1\n",
        "  else:\n",
        "    pass\n",
        "  print()"
      ],
      "metadata": {
        "colab": {
          "base_uri": "https://localhost:8080/"
        },
        "id": "PYcIWuEEkMLo",
        "outputId": "5386f004-81d8-4484-85a3-20e7429a1616"
      },
      "execution_count": 45,
      "outputs": [
        {
          "output_type": "stream",
          "name": "stdout",
          "text": [
            "enter a rows here6\n",
            "\n",
            " AAAAA\n",
            "  BBBB\n",
            "   ABC\n",
            "    AB\n",
            "     A\n"
          ]
        }
      ]
    },
    {
      "cell_type": "code",
      "source": [
        "rows = int(input(\"Enter rows: \"))\n",
        "n = 65\n",
        "for i in range(rows, 0, -1):\n",
        "    k = 65\n",
        "    print(\" \" * (rows - i), end=\"\")\n",
        "    for j in range(1, i + 1):\n",
        "        if i == 5 or i == 4:\n",
        "            print(chr(n), end=\"\")\n",
        "        else:\n",
        "            print(chr(k), end=\"\")\n",
        "            k += 1\n",
        "    if i == 5 or i == 4:\n",
        "        n += 1\n",
        "    print()\n"
      ],
      "metadata": {
        "colab": {
          "base_uri": "https://localhost:8080/"
        },
        "id": "Trcn5DbOoCCo",
        "outputId": "09f8a69b-cc82-4151-9234-2f1f629145bb"
      },
      "execution_count": 47,
      "outputs": [
        {
          "output_type": "stream",
          "name": "stdout",
          "text": [
            "Enter rows: 5\n",
            "AAAAA\n",
            " BBBB\n",
            "  ABC\n",
            "   AB\n",
            "    A\n"
          ]
        }
      ]
    },
    {
      "cell_type": "code",
      "source": [
        "rows=int(input(\"enter a rows here: \"))\n",
        "for i in range(1,rows+1):\n",
        "  print(\" \"*(rows-i)+(\"*\")*(2*i-1))"
      ],
      "metadata": {
        "colab": {
          "base_uri": "https://localhost:8080/"
        },
        "id": "hHvFxGxvoTu7",
        "outputId": "d7cd18d7-0aca-4af9-e528-d75d5648e1d7"
      },
      "execution_count": 51,
      "outputs": [
        {
          "output_type": "stream",
          "name": "stdout",
          "text": [
            "enter a rows here: 6\n",
            "     *\n",
            "    ***\n",
            "   *****\n",
            "  *******\n",
            " *********\n",
            "***********\n"
          ]
        }
      ]
    },
    {
      "cell_type": "code",
      "source": [
        "rows=int(input(\"enter a rows here: \"))\n",
        "for i in range(1,rows+1):\n",
        "  print(\" \"*(rows-i)+(\"*\")*(2*i-1))\n",
        "for i in range(rows,0,-1):\n",
        "  print(\" \"*(rows-i)+(\"*\")*(2*i-1))"
      ],
      "metadata": {
        "colab": {
          "base_uri": "https://localhost:8080/"
        },
        "id": "WyfD7b7gpF4I",
        "outputId": "7e166634-52a2-450c-a04f-e3ae3b9dbbb8"
      },
      "execution_count": 58,
      "outputs": [
        {
          "output_type": "stream",
          "name": "stdout",
          "text": [
            "enter a rows here: 6\n",
            "     *\n",
            "    ***\n",
            "   *****\n",
            "  *******\n",
            " *********\n",
            "***********\n",
            "***********\n",
            " *********\n",
            "  *******\n",
            "   *****\n",
            "    ***\n",
            "     *\n"
          ]
        }
      ]
    }
  ]
}