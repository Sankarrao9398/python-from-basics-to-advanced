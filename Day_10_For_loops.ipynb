{
  "nbformat": 4,
  "nbformat_minor": 0,
  "metadata": {
    "colab": {
      "provenance": []
    },
    "kernelspec": {
      "name": "python3",
      "display_name": "Python 3"
    },
    "language_info": {
      "name": "python"
    }
  },
  "cells": [
    {
      "cell_type": "markdown",
      "source": [
        "write a python program to print each character of a string"
      ],
      "metadata": {
        "id": "7NLVu1g0cm--"
      }
    },
    {
      "cell_type": "code",
      "source": [
        "n=input(\"enter a string\")\n",
        "for i in n:\n",
        "  print(i)"
      ],
      "metadata": {
        "colab": {
          "base_uri": "https://localhost:8080/"
        },
        "id": "iEoq1VDJcvOQ",
        "outputId": "62a0d17c-b838-44a0-f0d4-5ca4277a89a8"
      },
      "execution_count": null,
      "outputs": [
        {
          "output_type": "stream",
          "name": "stdout",
          "text": [
            "enter a stringsankar\n",
            "s\n",
            "a\n",
            "n\n",
            "k\n",
            "a\n",
            "r\n"
          ]
        }
      ]
    },
    {
      "cell_type": "markdown",
      "source": [
        "write apython program to print index value"
      ],
      "metadata": {
        "id": "-NxacmwFc-HG"
      }
    },
    {
      "cell_type": "code",
      "execution_count": null,
      "metadata": {
        "colab": {
          "base_uri": "https://localhost:8080/"
        },
        "id": "549qz0M2cmbQ",
        "outputId": "5be57efb-dc0f-4f86-8172-428ed49f5b15"
      },
      "outputs": [
        {
          "output_type": "stream",
          "name": "stdout",
          "text": [
            "[1, 2, 3]\n"
          ]
        }
      ],
      "source": [
        "a=[[1,2,3],34,56,\"sankar\",\"ravi\",{\"banana\",\"apple\"}]\n",
        "for i in range(0,len(a)):\n",
        "  if i==0:\n",
        "    print(a[i])"
      ]
    },
    {
      "cell_type": "markdown",
      "source": [
        "write a python program to print only list in list"
      ],
      "metadata": {
        "id": "o3jk5lZpd0KG"
      }
    },
    {
      "cell_type": "code",
      "source": [
        "abc=[[1,2,3],True,False,\"apple\",\"ravi\",{\"banana\",\"guava\"}]\n",
        "for i in range(0,len(abc)):\n",
        "  if type(abc[i])==list:\n",
        "    print(abc[i])"
      ],
      "metadata": {
        "id": "ZWJBzQPDd7bA",
        "colab": {
          "base_uri": "https://localhost:8080/"
        },
        "outputId": "2b64f8d0-32cb-4a3b-d574-8c04dd49d085"
      },
      "execution_count": null,
      "outputs": [
        {
          "output_type": "stream",
          "name": "stdout",
          "text": [
            "[1, 2, 3]\n"
          ]
        }
      ]
    },
    {
      "cell_type": "markdown",
      "source": [
        "write a Python program to print list in list and append in empty list"
      ],
      "metadata": {
        "id": "DTAqUruxgFP_"
      }
    },
    {
      "cell_type": "code",
      "source": [
        "a=[[1,2,3],True,False,\"apple\",\"ravi\",{\"banana\",\"guava\"}]\n",
        "result=[]\n",
        "for i in range(0,len(a)):\n",
        "  if type(a[i])==list:\n",
        "    result.append(a[i])\n",
        "print(result)"
      ],
      "metadata": {
        "colab": {
          "base_uri": "https://localhost:8080/"
        },
        "id": "J0p6N0ccgEel",
        "outputId": "49ed272f-2b98-453c-e570-abfcb5637bcb"
      },
      "execution_count": null,
      "outputs": [
        {
          "output_type": "stream",
          "name": "stdout",
          "text": [
            "[]\n"
          ]
        }
      ]
    },
    {
      "cell_type": "markdown",
      "source": [
        "write a python program to print only even numbers in reverse 1-10 and sum of even and sum of odd"
      ],
      "metadata": {
        "id": "efBCh3-EgjJW"
      }
    },
    {
      "cell_type": "code",
      "source": [
        "sum_of_even=0\n",
        "sum_of_odd=0\n",
        "for i in range(10,1,-2):\n",
        "    sum_of_even=sum_of_even+i\n",
        "print(sum_of_even)\n",
        "for i in range(9,0,-2):\n",
        "  sum_of_odd=sum_of_odd+i\n",
        "print(sum_of_odd)"
      ],
      "metadata": {
        "colab": {
          "base_uri": "https://localhost:8080/"
        },
        "id": "wZpMxm24hEhF",
        "outputId": "19b79624-88fe-4fa1-a42c-51f4423a32f9"
      },
      "execution_count": null,
      "outputs": [
        {
          "output_type": "stream",
          "name": "stdout",
          "text": [
            "30\n",
            "25\n"
          ]
        }
      ]
    },
    {
      "cell_type": "markdown",
      "source": [
        "write a python program to print 1-10 even numbers in reverse"
      ],
      "metadata": {
        "id": "5PFo18483-8G"
      }
    },
    {
      "cell_type": "code",
      "source": [
        "for i in range(10,1,-2):\n",
        "  print(i)"
      ],
      "metadata": {
        "colab": {
          "base_uri": "https://localhost:8080/"
        },
        "id": "7CNKseE-3JUk",
        "outputId": "b774cd2f-5c9e-4078-828b-6488e217f633"
      },
      "execution_count": null,
      "outputs": [
        {
          "output_type": "stream",
          "name": "stdout",
          "text": [
            "10\n",
            "8\n",
            "6\n",
            "4\n",
            "2\n"
          ]
        }
      ]
    },
    {
      "cell_type": "markdown",
      "source": [
        "write a python program to print 1-10 odd numbers in reverse"
      ],
      "metadata": {
        "id": "4Nhb1nLc4ZZo"
      }
    },
    {
      "cell_type": "code",
      "source": [
        "for i in range(9,0,-2):\n",
        "  print(i)\n"
      ],
      "metadata": {
        "colab": {
          "base_uri": "https://localhost:8080/"
        },
        "id": "9uRFpLTl3sxz",
        "outputId": "e228a460-21ea-4927-bafd-325c03ca969b"
      },
      "execution_count": null,
      "outputs": [
        {
          "output_type": "stream",
          "name": "stdout",
          "text": [
            "9\n",
            "7\n",
            "5\n",
            "3\n",
            "1\n"
          ]
        }
      ]
    },
    {
      "cell_type": "markdown",
      "source": [
        "write a python to print two digit integer from a list of digits\n"
      ],
      "metadata": {
        "id": "sq6k4TnCiDJX"
      }
    },
    {
      "cell_type": "code",
      "source": [
        "n=[12,13,144,155,166,1888,1999]\n",
        "for i in n:\n",
        "  if i>10 and i<100:\n",
        "    print(i)\n"
      ],
      "metadata": {
        "colab": {
          "base_uri": "https://localhost:8080/"
        },
        "id": "jUp-gp6l4rUU",
        "outputId": "8e7359cf-e30d-4a26-bec0-3338422db92c"
      },
      "execution_count": null,
      "outputs": [
        {
          "output_type": "stream",
          "name": "stdout",
          "text": [
            "12\n",
            "13\n"
          ]
        }
      ]
    },
    {
      "cell_type": "markdown",
      "source": [
        "write a python program to print only list items in alist"
      ],
      "metadata": {
        "id": "XsaqeQ2j7kLr"
      }
    },
    {
      "cell_type": "code",
      "source": [
        "abc=[\"sankar\",\"dinesh\",\"mohith\",21,32,[1,2,3],{\"banana\"}]\n",
        "for i in range(0,len(abc)):\n",
        "  if type(abc[i])==list:\n",
        "    print(abc[i])"
      ],
      "metadata": {
        "colab": {
          "base_uri": "https://localhost:8080/"
        },
        "id": "t3BKI66W7jm7",
        "outputId": "3a471b4f-940c-46a5-8ff8-d36eeb759da6"
      },
      "execution_count": null,
      "outputs": [
        {
          "output_type": "stream",
          "name": "stdout",
          "text": [
            "[1, 2, 3]\n"
          ]
        }
      ]
    },
    {
      "cell_type": "markdown",
      "source": [
        "write a python program to print 3 digit number convert into string and print sum 158 =1+5+8"
      ],
      "metadata": {
        "id": "JPyPHfjc9deO"
      }
    },
    {
      "cell_type": "code",
      "source": [
        "a=[1,2,3,158,2000,2]\n",
        "sum=0\n",
        "for i in a:\n",
        "  if i>100 and i<=999:\n",
        "    print(i)\n",
        "    x=str(i)\n",
        "    for char in x:\n",
        "      sum=sum+int(char)\n",
        "print(sum)"
      ],
      "metadata": {
        "colab": {
          "base_uri": "https://localhost:8080/"
        },
        "id": "ofHXHnMc9uCS",
        "outputId": "92af57e4-a236-4260-8e74-56d035000698"
      },
      "execution_count": null,
      "outputs": [
        {
          "output_type": "stream",
          "name": "stdout",
          "text": [
            "158\n",
            "14\n"
          ]
        }
      ]
    },
    {
      "cell_type": "markdown",
      "source": [
        "write a python program to print only even position in a string"
      ],
      "metadata": {
        "id": "SxiCK1he_CJX"
      }
    },
    {
      "cell_type": "code",
      "source": [
        "a=\"sankar\"\n",
        "for i in range(0,len(a)):\n",
        "  if i%2==0:\n",
        "    print(a[i])\n"
      ],
      "metadata": {
        "colab": {
          "base_uri": "https://localhost:8080/"
        },
        "id": "kBpGZFHR-7zn",
        "outputId": "2aff74bb-eebb-42fc-eb0c-924cd7d683c7"
      },
      "execution_count": null,
      "outputs": [
        {
          "output_type": "stream",
          "name": "stdout",
          "text": [
            "s\n",
            "n\n",
            "a\n"
          ]
        }
      ]
    }
  ]
}