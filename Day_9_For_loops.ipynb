{
  "nbformat": 4,
  "nbformat_minor": 0,
  "metadata": {
    "colab": {
      "provenance": []
    },
    "kernelspec": {
      "name": "python3",
      "display_name": "Python 3"
    },
    "language_info": {
      "name": "python"
    }
  },
  "cells": [
    {
      "cell_type": "markdown",
      "source": [
        "print all vowels from list of single chars\n",
        "\n"
      ],
      "metadata": {
        "id": "cvGmDxcxpZ87"
      }
    },
    {
      "cell_type": "code",
      "execution_count": null,
      "metadata": {
        "colab": {
          "base_uri": "https://localhost:8080/"
        },
        "id": "NZxsEWSQgDvg",
        "outputId": "0abcfbf1-bd68-436d-ddd4-e3d8c077db0d"
      },
      "outputs": [
        {
          "output_type": "stream",
          "name": "stdout",
          "text": [
            "a\n",
            "e\n",
            "i\n",
            "o\n",
            "u\n"
          ]
        }
      ],
      "source": [
        "list=[\"a\",\"e\",\"i\",\"j\",\"h\",\"k\",\"o\",\"u\"]\n",
        "for i in list:\n",
        "  if i in \"aeiou\":\n",
        "    print(i)"
      ]
    },
    {
      "cell_type": "markdown",
      "source": [
        "print all strs which are len > 5 and push to new list"
      ],
      "metadata": {
        "id": "MYMbc3_SpeIp"
      }
    },
    {
      "cell_type": "code",
      "source": [
        "a=[\"sankar\",\"ravi\",\"srinu\",\"devi\"]\n",
        "new_list=[]\n",
        "for i in a:\n",
        "  if len(i)>5:\n",
        "    new_list.append(i)\n",
        "print(new_list)"
      ],
      "metadata": {
        "colab": {
          "base_uri": "https://localhost:8080/"
        },
        "id": "WqOPDfrYhIs0",
        "outputId": "676b6163-314f-48e0-bd8d-d0ce3dd1a29d"
      },
      "execution_count": null,
      "outputs": [
        {
          "output_type": "stream",
          "name": "stdout",
          "text": [
            "['sankar']\n"
          ]
        }
      ]
    },
    {
      "cell_type": "markdown",
      "source": [
        "print all odd indices values in list\n"
      ],
      "metadata": {
        "id": "ofK8dPnipmAg"
      }
    },
    {
      "cell_type": "code",
      "source": [
        "a=[1,2,3,4,5,6]\n",
        "for i in range(1,len(a),2):\n",
        "  print(i)\n",
        "\n",
        "\n"
      ],
      "metadata": {
        "colab": {
          "base_uri": "https://localhost:8080/"
        },
        "id": "qAPvAEYXiX41",
        "outputId": "fc9562a7-8ece-4620-b3bb-4ebcc49bd9eb"
      },
      "execution_count": null,
      "outputs": [
        {
          "output_type": "stream",
          "name": "stdout",
          "text": [
            "1\n",
            "3\n",
            "5\n"
          ]
        }
      ]
    },
    {
      "cell_type": "markdown",
      "source": [
        "4) print all odd indices values and find only str and that\n",
        "too len >3 and len<5"
      ],
      "metadata": {
        "id": "M-w0EGGDm-ZD"
      }
    },
    {
      "cell_type": "code",
      "source": [
        "a=[1,3,\"sankar\",\"devi\",\"ramu\",\"mokshith\",\"sankar\"]\n",
        "for i in range(1,len(a),2):\n",
        "  if type(a[i])==str:\n",
        "    if len(a[i])>3 and len(a[i])<5:\n",
        "      print(a[i])\n"
      ],
      "metadata": {
        "colab": {
          "base_uri": "https://localhost:8080/"
        },
        "id": "ilWI9kmzidgq",
        "outputId": "d5ddc225-23de-41d7-fb14-1eeeb5d213f4"
      },
      "execution_count": null,
      "outputs": [
        {
          "output_type": "stream",
          "name": "stdout",
          "text": [
            "devi\n"
          ]
        }
      ]
    },
    {
      "cell_type": "markdown",
      "source": [
        "print all even indices values from list and\n",
        "push to new list  "
      ],
      "metadata": {
        "id": "B4Py2iX4oHNG"
      }
    },
    {
      "cell_type": "code",
      "source": [
        "list=[\"sankar\",1,2,3,4,5,\"devi\",\"ravi\",\"mokshith\"]\n",
        "new_list=[]\n",
        "for i in range(1,len(list),2):\n",
        "  new_list.append(list[i])\n",
        "print(new_list)"
      ],
      "metadata": {
        "colab": {
          "base_uri": "https://localhost:8080/"
        },
        "id": "byCDqhFWoIRG",
        "outputId": "f1b52bd0-79ff-4ddb-a2a5-9bd37b8a3e5a"
      },
      "execution_count": null,
      "outputs": [
        {
          "output_type": "stream",
          "name": "stdout",
          "text": [
            "[1, 3, 5, 'ravi']\n"
          ]
        }
      ]
    },
    {
      "cell_type": "code",
      "source": [
        "\n",
        "9596722879"
      ],
      "metadata": {
        "id": "cQvT6sxDpuvX"
      },
      "execution_count": null,
      "outputs": []
    }
  ]
}