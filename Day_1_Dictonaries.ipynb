{
  "nbformat": 4,
  "nbformat_minor": 0,
  "metadata": {
    "colab": {
      "provenance": []
    },
    "kernelspec": {
      "name": "python3",
      "display_name": "Python 3"
    },
    "language_info": {
      "name": "python"
    }
  },
  "cells": [
    {
      "cell_type": "code",
      "execution_count": null,
      "metadata": {
        "colab": {
          "base_uri": "https://localhost:8080/"
        },
        "id": "k2dXvOTyfhO3",
        "outputId": "feadaa55-2a1b-4549-d146-1cbb3eca37de"
      },
      "outputs": [
        {
          "output_type": "execute_result",
          "data": {
            "text/plain": [
              "[{'name': 'Spice Villa',\n",
              "  'cuisine': 'Indian',\n",
              "  'rating': 4.5,\n",
              "  'location': 'Vizianagaram',\n",
              "  'veg_only': True},\n",
              " {'name': 'Tiffin Stop',\n",
              "  'cuisine': 'South Indian',\n",
              "  'rating': 4.2,\n",
              "  'location': 'Bobbili',\n",
              "  'veg_only': True},\n",
              " {'name': 'Sushi Zen',\n",
              "  'cuisine': 'Japanese',\n",
              "  'rating': 4.7,\n",
              "  'location': 'Parvathipuram',\n",
              "  'veg_only': False},\n",
              " {'name': 'Coastal Curries',\n",
              "  'cuisine': 'Seafood',\n",
              "  'rating': 4.6,\n",
              "  'location': 'Salur',\n",
              "  'veg_only': False},\n",
              " {'name': 'Dosa Corner',\n",
              "  'cuisine': 'Breakfast',\n",
              "  'rating': 4.3,\n",
              "  'location': 'Gajapathinagaram',\n",
              "  'veg_only': True}]"
            ]
          },
          "metadata": {},
          "execution_count": 2
        }
      ],
      "source": [
        "restaurants1 = [\n",
        "    {\"name\": \"Spice Villa\", \"cuisine\": \"Indian\", \"rating\": 4.5, \"location\": \"Vizianagaram\", \"veg_only\": True},\n",
        "    {\"name\": \"Tiffin Stop\", \"cuisine\": \"South Indian\", \"rating\": 4.2, \"location\": \"Bobbili\", \"veg_only\": True},\n",
        "    {\"name\": \"Sushi Zen\", \"cuisine\": \"Japanese\", \"rating\": 4.7, \"location\": \"Parvathipuram\", \"veg_only\": False},\n",
        "    {\"name\": \"Coastal Curries\", \"cuisine\": \"Seafood\", \"rating\": 4.6, \"location\": \"Salur\", \"veg_only\": False},\n",
        "    {\"name\": \"Dosa Corner\", \"cuisine\": \"Breakfast\", \"rating\": 4.3, \"location\": \"Gajapathinagaram\", \"veg_only\": True}\n",
        "]\n",
        "restaurants1"
      ]
    },
    {
      "cell_type": "code",
      "source": [
        "restaurants2 = [\n",
        "    {\"name\": \"Biryani Bhavan\", \"cuisine\": \"Hyderabadi\", \"rating\": 4.4, \"location\": \"Nellimarla\", \"veg_only\": False},\n",
        "    {\"name\": \"Cafe Vizag\", \"cuisine\": \"Café\", \"rating\": 4.1, \"location\": \"Vizianagaram\", \"veg_only\": True},\n",
        "    {\"name\": \"China Spice\", \"cuisine\": \"Chinese\", \"rating\": 4.2, \"location\": \"Therlam\", \"veg_only\": False},\n",
        "    {\"name\": \"Thali Time\", \"cuisine\": \"Andhra Meals\", \"rating\": 4.6, \"location\": \"Garividi\", \"veg_only\": True},\n",
        "    {\"name\": \"Paneer Plaza\", \"cuisine\": \"North Indian\", \"rating\": 4.3, \"location\": \"Kothavalasa\", \"veg_only\": True}\n",
        "]\n",
        "restaurants2"
      ],
      "metadata": {
        "colab": {
          "base_uri": "https://localhost:8080/"
        },
        "id": "0dp0RcA7gH0e",
        "outputId": "5c96c691-b369-4349-c38d-31aaf7296de5"
      },
      "execution_count": null,
      "outputs": [
        {
          "output_type": "execute_result",
          "data": {
            "text/plain": [
              "[{'name': 'Biryani Bhavan',\n",
              "  'cuisine': 'Hyderabadi',\n",
              "  'rating': 4.4,\n",
              "  'location': 'Nellimarla',\n",
              "  'veg_only': False},\n",
              " {'name': 'Cafe Vizag',\n",
              "  'cuisine': 'Café',\n",
              "  'rating': 4.1,\n",
              "  'location': 'Vizianagaram',\n",
              "  'veg_only': True},\n",
              " {'name': 'China Spice',\n",
              "  'cuisine': 'Chinese',\n",
              "  'rating': 4.2,\n",
              "  'location': 'Therlam',\n",
              "  'veg_only': False},\n",
              " {'name': 'Thali Time',\n",
              "  'cuisine': 'Andhra Meals',\n",
              "  'rating': 4.6,\n",
              "  'location': 'Garividi',\n",
              "  'veg_only': True},\n",
              " {'name': 'Paneer Plaza',\n",
              "  'cuisine': 'North Indian',\n",
              "  'rating': 4.3,\n",
              "  'location': 'Kothavalasa',\n",
              "  'veg_only': True}]"
            ]
          },
          "metadata": {},
          "execution_count": 3
        }
      ]
    },
    {
      "cell_type": "code",
      "source": [
        "restaurants3 = [\n",
        "    {\"name\": \"Sweet 'n' Hot\", \"cuisine\": \"Snacks\", \"rating\": 4.5, \"location\": \"Bobbili\", \"veg_only\": True},\n",
        "    {\"name\": \"Wrap Zone\", \"cuisine\": \"Fast Food\", \"rating\": 4.0, \"location\": \"Jami\", \"veg_only\": False},\n",
        "    {\"name\": \"Kebab House\", \"cuisine\": \"Mughlai\", \"rating\": 4.6, \"location\": \"Parvathipuram\", \"veg_only\": False},\n",
        "    {\"name\": \"Rice Bowl\", \"cuisine\": \"Andhra\", \"rating\": 4.3, \"location\": \"Mentada\", \"veg_only\": True},\n",
        "    {\"name\": \"Vegan Vibes\", \"cuisine\": \"Vegan\", \"rating\": 4.7, \"location\": \"Cheepurupalli\", \"veg_only\": True}\n",
        "]\n",
        "restaurants3"
      ],
      "metadata": {
        "colab": {
          "base_uri": "https://localhost:8080/"
        },
        "id": "7E6j52wWgNK_",
        "outputId": "c6f0bb53-2e30-4c57-9853-d1d7a6d80d18"
      },
      "execution_count": null,
      "outputs": [
        {
          "output_type": "execute_result",
          "data": {
            "text/plain": [
              "[{'name': \"Sweet 'n' Hot\",\n",
              "  'cuisine': 'Snacks',\n",
              "  'rating': 4.5,\n",
              "  'location': 'Bobbili',\n",
              "  'veg_only': True},\n",
              " {'name': 'Wrap Zone',\n",
              "  'cuisine': 'Fast Food',\n",
              "  'rating': 4.0,\n",
              "  'location': 'Jami',\n",
              "  'veg_only': False},\n",
              " {'name': 'Kebab House',\n",
              "  'cuisine': 'Mughlai',\n",
              "  'rating': 4.6,\n",
              "  'location': 'Parvathipuram',\n",
              "  'veg_only': False},\n",
              " {'name': 'Rice Bowl',\n",
              "  'cuisine': 'Andhra',\n",
              "  'rating': 4.3,\n",
              "  'location': 'Mentada',\n",
              "  'veg_only': True},\n",
              " {'name': 'Vegan Vibes',\n",
              "  'cuisine': 'Vegan',\n",
              "  'rating': 4.7,\n",
              "  'location': 'Cheepurupalli',\n",
              "  'veg_only': True}]"
            ]
          },
          "metadata": {},
          "execution_count": 4
        }
      ]
    },
    {
      "cell_type": "code",
      "source": [
        "restaurants4 = [\n",
        "    {\"name\": \"Ghee Tiffins\", \"cuisine\": \"Breakfast\", \"rating\": 4.4, \"location\": \"Ramabhadrapuram\", \"veg_only\": True},\n",
        "    {\"name\": \"Tandoor Nights\", \"cuisine\": \"North Indian\", \"rating\": 4.2, \"location\": \"Gurla\", \"veg_only\": False},\n",
        "    {\"name\": \"Fruit Fiesta\", \"cuisine\": \"Juices\", \"rating\": 4.5, \"location\": \"Vizianagaram\", \"veg_only\": True},\n",
        "    {\"name\": \"BBQ King\", \"cuisine\": \"Barbecue\", \"rating\": 4.3, \"location\": \"Salur\", \"veg_only\": False},\n",
        "    {\"name\": \"Dabba Express\", \"cuisine\": \"Home-style\", \"rating\": 4.1, \"location\": \"Dattirajeru\", \"veg_only\": True}\n",
        "]\n",
        "restaurants4"
      ],
      "metadata": {
        "colab": {
          "base_uri": "https://localhost:8080/"
        },
        "id": "A5KGOGrYgQF_",
        "outputId": "3e286c32-c2aa-4dbb-d168-6e17b2d80dcd"
      },
      "execution_count": null,
      "outputs": [
        {
          "output_type": "execute_result",
          "data": {
            "text/plain": [
              "[{'name': 'Ghee Tiffins',\n",
              "  'cuisine': 'Breakfast',\n",
              "  'rating': 4.4,\n",
              "  'location': 'Ramabhadrapuram',\n",
              "  'veg_only': True},\n",
              " {'name': 'Tandoor Nights',\n",
              "  'cuisine': 'North Indian',\n",
              "  'rating': 4.2,\n",
              "  'location': 'Gurla',\n",
              "  'veg_only': False},\n",
              " {'name': 'Fruit Fiesta',\n",
              "  'cuisine': 'Juices',\n",
              "  'rating': 4.5,\n",
              "  'location': 'Vizianagaram',\n",
              "  'veg_only': True},\n",
              " {'name': 'BBQ King',\n",
              "  'cuisine': 'Barbecue',\n",
              "  'rating': 4.3,\n",
              "  'location': 'Salur',\n",
              "  'veg_only': False},\n",
              " {'name': 'Dabba Express',\n",
              "  'cuisine': 'Home-style',\n",
              "  'rating': 4.1,\n",
              "  'location': 'Dattirajeru',\n",
              "  'veg_only': True}]"
            ]
          },
          "metadata": {},
          "execution_count": 5
        }
      ]
    },
    {
      "cell_type": "code",
      "source": [
        "restaurants5 = [\n",
        "    {\"name\": \"Idli Hut\", \"cuisine\": \"Breakfast\", \"rating\": 4.6, \"location\": \"Pusapatirega\", \"veg_only\": True},\n",
        "    {\"name\": \"Royal Meals\", \"cuisine\": \"Andhra\", \"rating\": 4.2, \"location\": \"Nellimarla\", \"veg_only\": True},\n",
        "    {\"name\": \"Fast Fry\", \"cuisine\": \"Street Food\", \"rating\": 4.1, \"location\": \"Gantyada\", \"veg_only\": False},\n",
        "    {\"name\": \"Pastry Point\", \"cuisine\": \"Bakery\", \"rating\": 4.4, \"location\": \"Badangi\", \"veg_only\": True},\n",
        "    {\"name\": \"Momo Magic\", \"cuisine\": \"Chinese\", \"rating\": 4.5, \"location\": \"Vizianagaram\", \"veg_only\": False}\n",
        "]\n",
        "restaurants5"
      ],
      "metadata": {
        "colab": {
          "base_uri": "https://localhost:8080/"
        },
        "id": "HvUABub-gRsc",
        "outputId": "2ac60ec0-a8f8-4eba-df7c-ed54de4bf773"
      },
      "execution_count": null,
      "outputs": [
        {
          "output_type": "execute_result",
          "data": {
            "text/plain": [
              "[{'name': 'Idli Hut',\n",
              "  'cuisine': 'Breakfast',\n",
              "  'rating': 4.6,\n",
              "  'location': 'Pusapatirega',\n",
              "  'veg_only': True},\n",
              " {'name': 'Royal Meals',\n",
              "  'cuisine': 'Andhra',\n",
              "  'rating': 4.2,\n",
              "  'location': 'Nellimarla',\n",
              "  'veg_only': True},\n",
              " {'name': 'Fast Fry',\n",
              "  'cuisine': 'Street Food',\n",
              "  'rating': 4.1,\n",
              "  'location': 'Gantyada',\n",
              "  'veg_only': False},\n",
              " {'name': 'Pastry Point',\n",
              "  'cuisine': 'Bakery',\n",
              "  'rating': 4.4,\n",
              "  'location': 'Badangi',\n",
              "  'veg_only': True},\n",
              " {'name': 'Momo Magic',\n",
              "  'cuisine': 'Chinese',\n",
              "  'rating': 4.5,\n",
              "  'location': 'Vizianagaram',\n",
              "  'veg_only': False}]"
            ]
          },
          "metadata": {},
          "execution_count": 6
        }
      ]
    },
    {
      "cell_type": "code",
      "source": [
        "restaurants6 = [\n",
        "    {\"name\": \"Veg Delight\", \"cuisine\": \"Pure Veg\", \"rating\": 4.8, \"location\": \"Gajapathinagaram\", \"veg_only\": True},\n",
        "    {\"name\": \"Tikka Tales\", \"cuisine\": \"North Indian\", \"rating\": 4.3, \"location\": \"Parvathipuram\", \"veg_only\": False},\n",
        "    {\"name\": \"Curry Leaf\", \"cuisine\": \"South Indian\", \"rating\": 4.5, \"location\": \"Bobbili\", \"veg_only\": True},\n",
        "    {\"name\": \"Thali Mahal\", \"cuisine\": \"Andhra Meals\", \"rating\": 4.6, \"location\": \"Nellimarla\", \"veg_only\": True},\n",
        "    {\"name\": \"Fusion Flavors\", \"cuisine\": \"Multi Cuisine\", \"rating\": 4.4, \"location\": \"Vizianagaram\", \"veg_only\": False}\n",
        "]\n",
        "restaurants6"
      ],
      "metadata": {
        "colab": {
          "base_uri": "https://localhost:8080/"
        },
        "id": "UULiadphgd5F",
        "outputId": "0747f435-3bc2-46a5-f309-6e2426f9190a"
      },
      "execution_count": null,
      "outputs": [
        {
          "output_type": "execute_result",
          "data": {
            "text/plain": [
              "[{'name': 'Veg Delight',\n",
              "  'cuisine': 'Pure Veg',\n",
              "  'rating': 4.8,\n",
              "  'location': 'Gajapathinagaram',\n",
              "  'veg_only': True},\n",
              " {'name': 'Tikka Tales',\n",
              "  'cuisine': 'North Indian',\n",
              "  'rating': 4.3,\n",
              "  'location': 'Parvathipuram',\n",
              "  'veg_only': False},\n",
              " {'name': 'Curry Leaf',\n",
              "  'cuisine': 'South Indian',\n",
              "  'rating': 4.5,\n",
              "  'location': 'Bobbili',\n",
              "  'veg_only': True},\n",
              " {'name': 'Thali Mahal',\n",
              "  'cuisine': 'Andhra Meals',\n",
              "  'rating': 4.6,\n",
              "  'location': 'Nellimarla',\n",
              "  'veg_only': True},\n",
              " {'name': 'Fusion Flavors',\n",
              "  'cuisine': 'Multi Cuisine',\n",
              "  'rating': 4.4,\n",
              "  'location': 'Vizianagaram',\n",
              "  'veg_only': False}]"
            ]
          },
          "metadata": {},
          "execution_count": 7
        }
      ]
    }
  ]
}