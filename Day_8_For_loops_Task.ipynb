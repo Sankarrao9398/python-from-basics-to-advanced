{
  "nbformat": 4,
  "nbformat_minor": 0,
  "metadata": {
    "colab": {
      "provenance": []
    },
    "kernelspec": {
      "name": "python3",
      "display_name": "Python 3"
    },
    "language_info": {
      "name": "python"
    }
  },
  "cells": [
    {
      "cell_type": "markdown",
      "source": [
        "Print each character of a string."
      ],
      "metadata": {
        "id": "TSgCEtzcz5Jp"
      }
    },
    {
      "cell_type": "code",
      "source": [
        "a=\"sankar\"\n",
        "for i in a:\n",
        "  print(i)"
      ],
      "metadata": {
        "colab": {
          "base_uri": "https://localhost:8080/"
        },
        "id": "TP8_20cRz4T-",
        "outputId": "9c6bbc19-38f1-4a6e-deab-6b67bc5d1c72"
      },
      "execution_count": null,
      "outputs": [
        {
          "output_type": "stream",
          "name": "stdout",
          "text": [
            "s\n",
            "a\n",
            "n\n",
            "k\n",
            "a\n",
            "r\n"
          ]
        }
      ]
    },
    {
      "cell_type": "markdown",
      "source": [
        "Print all even numbers from a list.\n",
        "Explanation: Iterate through a list and use a condition to check for even numbers.\n"
      ],
      "metadata": {
        "id": "VOXfO_HP0eu3"
      }
    },
    {
      "cell_type": "code",
      "execution_count": null,
      "metadata": {
        "colab": {
          "base_uri": "https://localhost:8080/"
        },
        "id": "OFvqaLR0z2Vx",
        "outputId": "0f44beab-9037-424b-9d98-2d0ff9e2bacf"
      },
      "outputs": [
        {
          "output_type": "stream",
          "name": "stdout",
          "text": [
            "2\n",
            "4\n",
            "6\n",
            "8\n",
            "10\n"
          ]
        }
      ],
      "source": [
        "a=[1,2,3,4,5,6,7,8,9,10]\n",
        "for num in a:\n",
        "  if num%2==0:\n",
        "    print(num)"
      ]
    },
    {
      "cell_type": "markdown",
      "source": [
        "Calculate the sum of numbers in a tuple.\n",
        "Explanation: Use a for loop to iterate through a tuple and keep adding each number to a total variable\n"
      ],
      "metadata": {
        "id": "5F9LQdRX3PLi"
      }
    },
    {
      "cell_type": "code",
      "source": [
        "a=(2,3,4,5)\n",
        "total=0\n",
        "for num in a:\n",
        "  total+=num\n",
        "print(\"sum of numbers in tuple\",total)"
      ],
      "metadata": {
        "colab": {
          "base_uri": "https://localhost:8080/"
        },
        "id": "lIxENNLa3QHV",
        "outputId": "6fefec4f-8101-4ca3-8e94-81f5b1cc4691"
      },
      "execution_count": null,
      "outputs": [
        {
          "output_type": "stream",
          "name": "stdout",
          "text": [
            "sum of numbers in tuple 14\n"
          ]
        }
      ]
    },
    {
      "cell_type": "markdown",
      "source": [
        "Print names from a list of strings.\n",
        "Explanation: Loop through a list of names and print each one.\n"
      ],
      "metadata": {
        "id": "cvTRm7Ww5KaN"
      }
    },
    {
      "cell_type": "code",
      "source": [
        "a=[\"sankar\",\"srinu\",\"devi\"]\n",
        "for i in a:\n",
        "  print(i)"
      ],
      "metadata": {
        "colab": {
          "base_uri": "https://localhost:8080/"
        },
        "id": "ki6Vjsoj5LiU",
        "outputId": "1134e2b7-2bcc-41e3-8235-aa7a08f23eec"
      },
      "execution_count": null,
      "outputs": [
        {
          "output_type": "stream",
          "name": "stdout",
          "text": [
            "sankar\n",
            "srinu\n",
            "devi\n"
          ]
        }
      ]
    },
    {
      "cell_type": "markdown",
      "source": [
        "Print square of numbers using range.\n",
        "Explanation: Use range to generate numbers, then square each number inside the loop.\n"
      ],
      "metadata": {
        "id": "1Ge6aK3n6TYo"
      }
    },
    {
      "cell_type": "code",
      "source": [
        "for i in range(1,10):\n",
        "  square=i**2\n",
        "  print(square)"
      ],
      "metadata": {
        "colab": {
          "base_uri": "https://localhost:8080/"
        },
        "id": "TWuzpv8R6V0K",
        "outputId": "90b9bf57-0747-4a99-96d7-d46dbfea0352"
      },
      "execution_count": null,
      "outputs": [
        {
          "output_type": "stream",
          "name": "stdout",
          "text": [
            "1\n",
            "4\n",
            "9\n",
            "16\n",
            "25\n",
            "36\n",
            "49\n",
            "64\n",
            "81\n"
          ]
        }
      ]
    },
    {
      "cell_type": "markdown",
      "source": [
        "Count vowels in a string.\n",
        "Explanation: Loop through each character and check if it is a vowel using a condition\n"
      ],
      "metadata": {
        "id": "k4m15MUl7D87"
      }
    },
    {
      "cell_type": "code",
      "source": [
        "a=input(\"enter a  string \")\n",
        "vowels_count=0\n",
        "vowels=\"aeiouAEIOU\"\n",
        "for char in vowels:\n",
        "  if char in a:\n",
        "     vowels_count+=1\n",
        "print(\"count of vowels\",vowels_count)"
      ],
      "metadata": {
        "colab": {
          "base_uri": "https://localhost:8080/"
        },
        "id": "mTyHgZWb7GB0",
        "outputId": "ec3a7675-410b-472f-8666-d07f5c84e58a"
      },
      "execution_count": null,
      "outputs": [
        {
          "output_type": "stream",
          "name": "stdout",
          "text": [
            "enter a stringabcdefghijklmno\n",
            "count of vowels 4\n"
          ]
        }
      ]
    },
    {
      "cell_type": "markdown",
      "source": [
        "Reverse a string using for loop.\n",
        "Explanation: Iterate through the string and build a new reversed string by prepending characters.\n"
      ],
      "metadata": {
        "id": "u6dlyqnUGs8O"
      }
    },
    {
      "cell_type": "code",
      "source": [
        "x=\"sankar\"\n",
        "j=\"\"\n",
        "for char in x:\n",
        "  j=char+j\n",
        "print(\"reversed_string\",j)"
      ],
      "metadata": {
        "colab": {
          "base_uri": "https://localhost:8080/"
        },
        "id": "bd-dQjAmGwYA",
        "outputId": "88aad3db-c4cc-47bc-c682-d64a4c62ffe6"
      },
      "execution_count": null,
      "outputs": [
        {
          "output_type": "stream",
          "name": "stdout",
          "text": [
            "reversed_string raknas\n"
          ]
        }
      ]
    },
    {
      "cell_type": "markdown",
      "source": [
        "Check if elements in list are positive.\n",
        "Explanation: Use a loop and condition to check and print whether each element is positive or not.\n",
        "\n"
      ],
      "metadata": {
        "id": "0_L4OSgfHKNe"
      }
    },
    {
      "cell_type": "code",
      "source": [
        "a=[1,-2,3,4,-5]\n",
        "for num in a:\n",
        "  if num>0:\n",
        "    print(f\"{num}positive\")\n",
        "  else:\n",
        "    print(f\"{num}negative\")"
      ],
      "metadata": {
        "colab": {
          "base_uri": "https://localhost:8080/"
        },
        "id": "fEV8-mpAHNre",
        "outputId": "b8d7e9ca-b699-45f6-dcf0-a427e3a548e7"
      },
      "execution_count": null,
      "outputs": [
        {
          "output_type": "stream",
          "name": "stdout",
          "text": [
            "1positive\n",
            "-2negative\n",
            "3positive\n",
            "4positive\n",
            "-5negative\n"
          ]
        }
      ]
    },
    {
      "cell_type": "markdown",
      "source": [
        ". Print numbers from 10 to 1 using range.\n",
        "Explanation: Use a reversed range to print numbers in descending order.\n"
      ],
      "metadata": {
        "id": "mtZySZyfLfuj"
      }
    },
    {
      "cell_type": "code",
      "source": [
        "for i in range(10,0,-1):\n",
        "  print(i)"
      ],
      "metadata": {
        "colab": {
          "base_uri": "https://localhost:8080/"
        },
        "id": "S0mrcsxnLhEv",
        "outputId": "995d5bcb-1857-43a1-d5cb-1bd0ad72482e"
      },
      "execution_count": null,
      "outputs": [
        {
          "output_type": "stream",
          "name": "stdout",
          "text": [
            "10\n",
            "9\n",
            "8\n",
            "7\n",
            "6\n",
            "5\n",
            "4\n",
            "3\n",
            "2\n",
            "1\n"
          ]
        }
      ]
    },
    {
      "cell_type": "markdown",
      "source": [
        "Convert each string in a list to uppercase."
      ],
      "metadata": {
        "id": "8xY2ZBPaMgLu"
      }
    },
    {
      "cell_type": "code",
      "source": [
        "a=[\"sankar\",\"sunny\"]\n",
        "for i in a:\n",
        "  print(i.upper())\n"
      ],
      "metadata": {
        "colab": {
          "base_uri": "https://localhost:8080/"
        },
        "id": "mJqQUKxQMhhi",
        "outputId": "7184aa1e-e50c-4fbd-e212-fc74467773f1"
      },
      "execution_count": null,
      "outputs": [
        {
          "output_type": "stream",
          "name": "stdout",
          "text": [
            "SANKAR\n",
            "SUNNY\n"
          ]
        }
      ]
    },
    {
      "cell_type": "markdown",
      "source": [
        " Print each element of a tuple with its index.\n",
        "Explanation: Use range and indexing to print the index and corresponding element in the tuple.\n"
      ],
      "metadata": {
        "id": "gXANRe1iOBST"
      }
    },
    {
      "cell_type": "code",
      "source": [
        "a=(\"lorry\",\"bus\",\"car\",\"tractor\")\n",
        "for i in range(0,len(a)):\n",
        "  print(i,a[i])\n"
      ],
      "metadata": {
        "colab": {
          "base_uri": "https://localhost:8080/"
        },
        "id": "5OGyW0KtOCuU",
        "outputId": "a29a5154-3617-4296-c01b-5c23d82d6ad5"
      },
      "execution_count": null,
      "outputs": [
        {
          "output_type": "stream",
          "name": "stdout",
          "text": [
            "0 lorry\n",
            "1 bus\n",
            "2 car\n",
            "3 tractor\n"
          ]
        }
      ]
    },
    {
      "cell_type": "code",
      "source": [
        "a=\"sankar\"\n",
        "for i in a:\n",
        "  print(i,end=\"@\")"
      ],
      "metadata": {
        "colab": {
          "base_uri": "https://localhost:8080/"
        },
        "id": "xBwo5f_B_sQZ",
        "outputId": "6b4e8101-1828-4900-d600-2c8c27762f24"
      },
      "execution_count": null,
      "outputs": [
        {
          "output_type": "stream",
          "name": "stdout",
          "text": [
            "s@a@n@k@a@r@"
          ]
        }
      ]
    },
    {
      "cell_type": "code",
      "source": [
        "for i in \"sankar\":\n",
        "  print(i,end=\" \")"
      ],
      "metadata": {
        "colab": {
          "base_uri": "https://localhost:8080/"
        },
        "id": "h7_4ceed_-60",
        "outputId": "f1ae1e64-a6d7-4fed-ccc4-b4c03d7b56b7"
      },
      "execution_count": null,
      "outputs": [
        {
          "output_type": "stream",
          "name": "stdout",
          "text": [
            "s a n k a r "
          ]
        }
      ]
    },
    {
      "cell_type": "code",
      "source": [
        "a=[1,2,3,4,5,6,7,8,9,12,43]\n",
        "for i in a:\n",
        "  if i%2==0:\n",
        "    print(i)"
      ],
      "metadata": {
        "colab": {
          "base_uri": "https://localhost:8080/"
        },
        "id": "yUZ1P0LhAJXO",
        "outputId": "623f9675-f64f-43c3-9e59-14218740d027"
      },
      "execution_count": null,
      "outputs": [
        {
          "output_type": "stream",
          "name": "stdout",
          "text": [
            "2\n",
            "4\n",
            "6\n",
            "8\n",
            "12\n"
          ]
        }
      ]
    },
    {
      "cell_type": "code",
      "source": [
        "a=[1,2,3,4,5,6,7,8,9,12,43]\n",
        "count=0\n",
        "for i in a:\n",
        "  if i%2==0:\n",
        "    count=count+1\n",
        "print(count)"
      ],
      "metadata": {
        "colab": {
          "base_uri": "https://localhost:8080/"
        },
        "id": "5jHYp8ACAb0W",
        "outputId": "a6c2342e-94fa-4e94-a430-b8b80fd05f92"
      },
      "execution_count": null,
      "outputs": [
        {
          "output_type": "stream",
          "name": "stdout",
          "text": [
            "5\n"
          ]
        }
      ]
    },
    {
      "cell_type": "code",
      "source": [
        "a=[1,3,2,4,7,99,6,9,23,45]\n",
        "list=[]\n",
        "for i in a:\n",
        "  if i%2==0:\n",
        "    list.append(i)\n",
        "print(list)\n"
      ],
      "metadata": {
        "colab": {
          "base_uri": "https://localhost:8080/"
        },
        "id": "Mn2I6-xpA2i4",
        "outputId": "e916a02b-6da4-4dca-afe2-402138d3f749"
      },
      "execution_count": null,
      "outputs": [
        {
          "output_type": "stream",
          "name": "stdout",
          "text": [
            "[2, 4, 6]\n"
          ]
        }
      ]
    },
    {
      "cell_type": "code",
      "source": [
        "for i in range(1,100):\n",
        "  if i%2==0:\n",
        "    print(i)"
      ],
      "metadata": {
        "colab": {
          "base_uri": "https://localhost:8080/"
        },
        "id": "-0wijQHrB_ij",
        "outputId": "8a1de1d1-6e38-48dc-9852-1f2802b88dd6"
      },
      "execution_count": null,
      "outputs": [
        {
          "output_type": "stream",
          "name": "stdout",
          "text": [
            "2\n",
            "4\n",
            "6\n",
            "8\n",
            "10\n",
            "12\n",
            "14\n",
            "16\n",
            "18\n",
            "20\n",
            "22\n",
            "24\n",
            "26\n",
            "28\n",
            "30\n",
            "32\n",
            "34\n",
            "36\n",
            "38\n",
            "40\n",
            "42\n",
            "44\n",
            "46\n",
            "48\n",
            "50\n",
            "52\n",
            "54\n",
            "56\n",
            "58\n",
            "60\n",
            "62\n",
            "64\n",
            "66\n",
            "68\n",
            "70\n",
            "72\n",
            "74\n",
            "76\n",
            "78\n",
            "80\n",
            "82\n",
            "84\n",
            "86\n",
            "88\n",
            "90\n",
            "92\n",
            "94\n",
            "96\n",
            "98\n"
          ]
        }
      ]
    },
    {
      "cell_type": "code",
      "source": [
        "a=(1,2,3,4,5,6,7,8)\n",
        "total=0\n",
        "for i in a:\n",
        "  total=total+i\n",
        "print(total)"
      ],
      "metadata": {
        "colab": {
          "base_uri": "https://localhost:8080/"
        },
        "id": "zuAKLgPADvZP",
        "outputId": "8dc083fb-63e1-4558-a380-edcee68665cd"
      },
      "execution_count": null,
      "outputs": [
        {
          "output_type": "stream",
          "name": "stdout",
          "text": [
            "36\n"
          ]
        }
      ]
    },
    {
      "cell_type": "code",
      "source": [
        "\n",
        "for i in [\"sankar\",\"ravi\",\"prabhas\"]:\n",
        "  print(i)\n"
      ],
      "metadata": {
        "colab": {
          "base_uri": "https://localhost:8080/"
        },
        "id": "YEq6_MOgERZS",
        "outputId": "6f81f04c-8dbe-4f84-edb2-a43a0f476bb7"
      },
      "execution_count": null,
      "outputs": [
        {
          "output_type": "stream",
          "name": "stdout",
          "text": [
            "sankar\n",
            "ravi\n",
            "prabhas\n"
          ]
        }
      ]
    },
    {
      "cell_type": "code",
      "source": [
        "for i in range(1,11):\n",
        "  print(i**2)"
      ],
      "metadata": {
        "colab": {
          "base_uri": "https://localhost:8080/"
        },
        "id": "14Khh3khE4XY",
        "outputId": "4f55ccb1-3e68-43ef-8918-7fd2fd5a9dd5"
      },
      "execution_count": null,
      "outputs": [
        {
          "output_type": "stream",
          "name": "stdout",
          "text": [
            "1\n",
            "4\n",
            "9\n",
            "16\n",
            "25\n",
            "36\n",
            "49\n",
            "64\n",
            "81\n",
            "100\n"
          ]
        }
      ]
    },
    {
      "cell_type": "code",
      "source": [
        "for i in range(1,10):\n",
        "  square=i**2\n",
        "  print(square)"
      ],
      "metadata": {
        "colab": {
          "base_uri": "https://localhost:8080/"
        },
        "id": "h2TDbocfFXDx",
        "outputId": "19e0f325-1887-4826-a5b6-9330642c8056"
      },
      "execution_count": null,
      "outputs": [
        {
          "output_type": "stream",
          "name": "stdout",
          "text": [
            "1\n",
            "4\n",
            "9\n",
            "16\n",
            "25\n",
            "36\n",
            "49\n",
            "64\n",
            "81\n"
          ]
        }
      ]
    },
    {
      "cell_type": "code",
      "source": [
        "a=\"sankar\"\n",
        "vowels=\"aeiouAEIOU\"\n",
        "for i in a:\n",
        "  if \"aeiouAEIOU\"in a:\n",
        "    print(a)\n"
      ],
      "metadata": {
        "id": "cdik24xgFjpb"
      },
      "execution_count": null,
      "outputs": []
    },
    {
      "cell_type": "code",
      "source": [
        "a=\"jadeja\"\n",
        "vowels=\"aeiouAEIOU\"\n",
        "count=0\n",
        "for i in vowels:\n",
        "  if i in a:\n",
        "    print(i)\n"
      ],
      "metadata": {
        "colab": {
          "base_uri": "https://localhost:8080/"
        },
        "id": "HZb9YcRbGPT2",
        "outputId": "89027f37-f60c-443c-e879-e68987a33926"
      },
      "execution_count": null,
      "outputs": [
        {
          "output_type": "stream",
          "name": "stdout",
          "text": [
            "a\n",
            "e\n"
          ]
        }
      ]
    },
    {
      "cell_type": "code",
      "source": [
        "a=\"abcdef\"\n",
        "count=0\n",
        "for i in \"aeiouAEIOU\":\n",
        "  if i in a:\n",
        "    count=count+1\n",
        "print(count)\n"
      ],
      "metadata": {
        "colab": {
          "base_uri": "https://localhost:8080/"
        },
        "id": "04aMEq0IHDRa",
        "outputId": "1fabc8fb-8a69-49d1-c5eb-dfa053e4dd50"
      },
      "execution_count": null,
      "outputs": [
        {
          "output_type": "stream",
          "name": "stdout",
          "text": [
            "2\n"
          ]
        }
      ]
    },
    {
      "cell_type": "code",
      "source": [
        "a=\"sankar\"\n",
        "for i in a[::-1]:\n",
        "  print(i,end=\"\")"
      ],
      "metadata": {
        "colab": {
          "base_uri": "https://localhost:8080/"
        },
        "id": "uowqiaeyHwB5",
        "outputId": "fd1a2a13-ff2e-4438-c3ef-1fb04e6d3550"
      },
      "execution_count": null,
      "outputs": [
        {
          "output_type": "stream",
          "name": "stdout",
          "text": [
            "raknas"
          ]
        }
      ]
    },
    {
      "cell_type": "code",
      "source": [
        "a=\"sankar\"\n",
        "for i in range(len(a)-1,-1,-1):\n",
        "  print(a[i],end=\"\")\n"
      ],
      "metadata": {
        "colab": {
          "base_uri": "https://localhost:8080/"
        },
        "id": "YliA8SARSkr_",
        "outputId": "357eb0eb-ba42-4485-a9d2-c491d4ab6ce8"
      },
      "execution_count": null,
      "outputs": [
        {
          "output_type": "stream",
          "name": "stdout",
          "text": [
            "raknas"
          ]
        }
      ]
    },
    {
      "cell_type": "code",
      "source": [
        "a=[1,2,4,-1,-2,-3]\n",
        "for i in a:\n",
        "  if i >0:\n",
        "    print(i)\n",
        "  else:\n",
        "    print(i)\n",
        "\n",
        "\n"
      ],
      "metadata": {
        "colab": {
          "base_uri": "https://localhost:8080/"
        },
        "id": "4a8c9OepIhum",
        "outputId": "4e301378-1ab1-4e76-878c-86f4e7bfc6a8"
      },
      "execution_count": null,
      "outputs": [
        {
          "output_type": "stream",
          "name": "stdout",
          "text": [
            "1\n",
            "2\n",
            "4\n",
            "-1\n",
            "-2\n",
            "-3\n"
          ]
        }
      ]
    },
    {
      "cell_type": "code",
      "source": [
        "a=[1,2,4,-1,-2,-3]\n",
        "psum=0\n",
        "nsum=0\n",
        "tsum=0\n",
        "for i in a:\n",
        "  if i >0:\n",
        "    psum=psum+i\n",
        "    print(i)\n",
        "\n",
        "  else:\n",
        "    nsum=nsum+i\n",
        "    print(i)\n",
        "print(psum)\n",
        "print(nsum)\n",
        "tsum=psum+nsum\n",
        "print(tsum)"
      ],
      "metadata": {
        "colab": {
          "base_uri": "https://localhost:8080/"
        },
        "id": "JY9g09CsTZNW",
        "outputId": "224665be-c537-4a1d-8a2a-3adbb676c596"
      },
      "execution_count": null,
      "outputs": [
        {
          "output_type": "stream",
          "name": "stdout",
          "text": [
            "1\n",
            "2\n",
            "4\n",
            "-1\n",
            "-2\n",
            "-3\n",
            "7\n",
            "-6\n",
            "1\n"
          ]
        }
      ]
    },
    {
      "cell_type": "code",
      "source": [
        "a=\"sankar\"\n",
        "for i in range(0,len(a)-1):\n",
        "  if i%2==1:\n",
        "    print(a[i])\n",
        "\n"
      ],
      "metadata": {
        "colab": {
          "base_uri": "https://localhost:8080/"
        },
        "id": "mfF5hjh_N96a",
        "outputId": "1a852214-f99c-4815-81fd-0db5ec930094"
      },
      "execution_count": null,
      "outputs": [
        {
          "output_type": "stream",
          "name": "stdout",
          "text": [
            "a\n",
            "k\n"
          ]
        }
      ]
    },
    {
      "cell_type": "code",
      "source": [
        "for i in range(1,11):\n",
        "  if i%3==0:\n",
        "    print(i)"
      ],
      "metadata": {
        "colab": {
          "base_uri": "https://localhost:8080/"
        },
        "id": "zODxNfK8PAX2",
        "outputId": "b4f48549-8f56-4f18-ade5-4de8e12a2bbc"
      },
      "execution_count": null,
      "outputs": [
        {
          "output_type": "stream",
          "name": "stdout",
          "text": [
            "3\n",
            "6\n",
            "9\n"
          ]
        }
      ]
    },
    {
      "cell_type": "code",
      "source": [
        "a=[10,9,3,4,5,6,2]\n",
        "for i in a:\n",
        "  if i%3==0:\n",
        "    print(i)"
      ],
      "metadata": {
        "colab": {
          "base_uri": "https://localhost:8080/"
        },
        "id": "dapQ6zlFPSUu",
        "outputId": "a5c4dd85-6e9a-43ca-bef3-bd91d86d77ee"
      },
      "execution_count": null,
      "outputs": [
        {
          "output_type": "stream",
          "name": "stdout",
          "text": [
            "9\n",
            "3\n",
            "6\n"
          ]
        }
      ]
    },
    {
      "cell_type": "code",
      "source": [
        "a=[1,2,3,4,5]\n",
        "product=1\n",
        "for i in a:\n",
        "  product=product*i\n",
        "print(product)\n"
      ],
      "metadata": {
        "colab": {
          "base_uri": "https://localhost:8080/"
        },
        "id": "TePM0Ac4Peoj",
        "outputId": "539519cb-702d-44cf-fe1a-2d941cb0d9a7"
      },
      "execution_count": null,
      "outputs": [
        {
          "output_type": "stream",
          "name": "stdout",
          "text": [
            "120\n"
          ]
        }
      ]
    },
    {
      "cell_type": "code",
      "source": [
        "a=(\"sankar\",\"car\",\"lorry\")\n",
        "for i in range(0,len(a)):\n",
        "  print(i,\":\",a[i])"
      ],
      "metadata": {
        "colab": {
          "base_uri": "https://localhost:8080/"
        },
        "id": "6Kmpi3VhQm4c",
        "outputId": "b56e10cb-f07c-483e-b6f9-634170920d01"
      },
      "execution_count": null,
      "outputs": [
        {
          "output_type": "stream",
          "name": "stdout",
          "text": [
            "0 : sankar\n",
            "1 : car\n",
            "2 : lorry\n"
          ]
        }
      ]
    },
    {
      "cell_type": "code",
      "source": [
        "for i in range(10,0,-1):\n",
        "  print(i)"
      ],
      "metadata": {
        "colab": {
          "base_uri": "https://localhost:8080/"
        },
        "id": "MTcDzAIGRccU",
        "outputId": "4f0b216a-f89e-4d69-fafd-ec9a22d69c3d"
      },
      "execution_count": null,
      "outputs": [
        {
          "output_type": "stream",
          "name": "stdout",
          "text": [
            "10\n",
            "9\n",
            "8\n",
            "7\n",
            "6\n",
            "5\n",
            "4\n",
            "3\n",
            "2\n",
            "1\n"
          ]
        }
      ]
    },
    {
      "cell_type": "code",
      "source": [
        "for i in [\"sankar\"]:\n",
        "  print(i.upper())"
      ],
      "metadata": {
        "colab": {
          "base_uri": "https://localhost:8080/"
        },
        "id": "4FN39pjwRcAU",
        "outputId": "66398436-3b48-4dec-a895-d4b31cc49982"
      },
      "execution_count": null,
      "outputs": [
        {
          "output_type": "stream",
          "name": "stdout",
          "text": [
            "SANKAR\n"
          ]
        }
      ]
    },
    {
      "cell_type": "code",
      "source": [
        "a=\"sankar\"\n",
        "count=0\n",
        "for i in a:\n",
        "  if i==\"a\":\n",
        "    count=count+1\n",
        "print(count)"
      ],
      "metadata": {
        "colab": {
          "base_uri": "https://localhost:8080/"
        },
        "id": "_iNWehRxSA5z",
        "outputId": "dbf48049-fd4c-44c1-cf96-7ad5b961214a"
      },
      "execution_count": null,
      "outputs": [
        {
          "output_type": "stream",
          "name": "stdout",
          "text": [
            "2\n"
          ]
        }
      ]
    },
    {
      "cell_type": "code",
      "source": [
        "text = \"banana\"\n",
        "char_to_count = 'a'\n",
        "count = 0\n",
        "for char in text:\n",
        "    if char == char_to_count:\n",
        "        count += 1\n",
        "\n",
        "print(f\"The character '{char_to_count}' appears {count} times.\")\n"
      ],
      "metadata": {
        "colab": {
          "base_uri": "https://localhost:8080/"
        },
        "id": "yBaqw8t8mgAk",
        "outputId": "d4ef5708-fe57-4695-e189-10218a0bb225"
      },
      "execution_count": null,
      "outputs": [
        {
          "output_type": "stream",
          "name": "stdout",
          "text": [
            "The character 'a' appears 3 times.\n"
          ]
        }
      ]
    }
  ]
}