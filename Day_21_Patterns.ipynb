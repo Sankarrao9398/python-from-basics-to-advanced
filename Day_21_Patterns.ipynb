{
  "nbformat": 4,
  "nbformat_minor": 0,
  "metadata": {
    "colab": {
      "provenance": []
    },
    "kernelspec": {
      "name": "python3",
      "display_name": "Python 3"
    },
    "language_info": {
      "name": "python"
    }
  },
  "cells": [
    {
      "cell_type": "code",
      "execution_count": null,
      "metadata": {
        "colab": {
          "base_uri": "https://localhost:8080/"
        },
        "id": "HwwDEgWSjr-l",
        "outputId": "f7cc6187-aaac-49e6-91a6-ec40335eee47"
      },
      "outputs": [
        {
          "output_type": "stream",
          "name": "stdout",
          "text": [
            "enter a rows here3\n",
            "  a\n",
            " ABC\n",
            "12345\n",
            "12345\n",
            " abc\n",
            "  A\n"
          ]
        }
      ],
      "source": [
        "rows=int(input(\"enter a rows here\"))\n",
        "n=65\n",
        "k=97\n",
        "l=1\n",
        "for i in range(1,rows+1):\n",
        "  print(\" \"*(rows-i),end=\"\")\n",
        "  for j in range(2*i-1):\n",
        "    if i==1:\n",
        "      print(chr(k),end=\"\")\n",
        "    elif i==2:\n",
        "      print(chr(n),end=\"\")\n",
        "      n+=1\n",
        "    else:\n",
        "      print(l,end=\"\")\n",
        "      l+=1\n",
        "  print()\n",
        "m=65\n",
        "n=97\n",
        "o=1\n",
        "for i in range(rows,0,-1):\n",
        "  print(\" \"*(rows-i),end=\"\")\n",
        "  for j in range(2*i-1):\n",
        "    if i==1:\n",
        "      print(chr(m),end=\"\")\n",
        "    elif i==2:\n",
        "      print(chr(n),end=\"\")\n",
        "      n+=1\n",
        "    else:\n",
        "      print(o,end=\"\")\n",
        "      o+=1\n",
        "  print()"
      ]
    },
    {
      "cell_type": "code",
      "source": [
        "rows=int(input(\"enter a number\"))\n",
        "for i in range(1,rows+1):\n",
        "  print(\"*\"*i,end=\"\")\n",
        "  print()\n",
        "for i in range(rows,0,-1):\n",
        "  print(\"*\"*i,end=\"\")\n",
        "  print()"
      ],
      "metadata": {
        "colab": {
          "base_uri": "https://localhost:8080/"
        },
        "id": "f0RrPVKlm44B",
        "outputId": "463ae779-a12c-4c6d-a6ab-335dcca99d4f"
      },
      "execution_count": null,
      "outputs": [
        {
          "output_type": "stream",
          "name": "stdout",
          "text": [
            "enter a number4\n",
            "*\n",
            "**\n",
            "***\n",
            "****\n",
            "****\n",
            "***\n",
            "**\n",
            "*\n"
          ]
        }
      ]
    },
    {
      "cell_type": "code",
      "source": [
        "rows=int(input(\"enter a number\"))\n",
        "n=65\n",
        "for i in range(1,rows+1):\n",
        "  for j in range(1,i+1):\n",
        "    print(chr(n),end=\"\")\n",
        "    n+=1\n",
        "  print()\n",
        "v=85\n",
        "for i in range(rows,0,-1):\n",
        "  for j in range(1,i+1):\n",
        "    print(chr(v),end=\"\")\n",
        "    v-=1\n",
        "  print()\n"
      ],
      "metadata": {
        "colab": {
          "base_uri": "https://localhost:8080/"
        },
        "id": "Y7Z6VziTuZYf",
        "outputId": "f513e81b-a743-420e-9fe7-e423c6e34991"
      },
      "execution_count": null,
      "outputs": [
        {
          "output_type": "stream",
          "name": "stdout",
          "text": [
            "enter a number6\n",
            "A\n",
            "BC\n",
            "DEF\n",
            "GHIJ\n",
            "KLMNO\n",
            "PQRSTU\n",
            "UTSRQP\n",
            "ONMLK\n",
            "JIHG\n",
            "FED\n",
            "CB\n",
            "A\n"
          ]
        }
      ]
    },
    {
      "cell_type": "code",
      "source": [
        "rows=int(input(\"enter a number\"))\n",
        "for i in range(1,rows+1):\n",
        "  for j in range(1,i+1):\n",
        "    print(j,end=\"\")\n",
        "  print()\n",
        "for i in range(rows,0,-1):\n",
        "  for j in range(1,i+1):\n",
        "    print(j,end=\"\")\n",
        "  print()"
      ],
      "metadata": {
        "colab": {
          "base_uri": "https://localhost:8080/"
        },
        "id": "DYeqeHEfyMZT",
        "outputId": "cf351f59-c73a-4363-d2a8-4145992bc5f0"
      },
      "execution_count": null,
      "outputs": [
        {
          "output_type": "stream",
          "name": "stdout",
          "text": [
            "enter a number5\n",
            "1\n",
            "12\n",
            "123\n",
            "1234\n",
            "12345\n",
            "12345\n",
            "1234\n",
            "123\n",
            "12\n",
            "1\n"
          ]
        }
      ]
    },
    {
      "cell_type": "code",
      "source": [
        "rows=9\n",
        "inc=2\n",
        "for i in range(1,rows+1):\n",
        "    if i<=5:\n",
        "        print(\"*\" * i,end=\"\")\n",
        "        print()\n",
        "    else:\n",
        "        print((i-inc) * \"*\",end=\"\")\n",
        "        inc+=2\n",
        "        print()\n",
        "\n"
      ],
      "metadata": {
        "colab": {
          "base_uri": "https://localhost:8080/"
        },
        "id": "qrx8Hel6nxYH",
        "outputId": "614d749a-546b-47a5-997f-7103ead29665"
      },
      "execution_count": null,
      "outputs": [
        {
          "output_type": "stream",
          "name": "stdout",
          "text": [
            "*\n",
            "**\n",
            "***\n",
            "****\n",
            "*****\n",
            "****\n",
            "***\n",
            "**\n",
            "*\n"
          ]
        }
      ]
    },
    {
      "cell_type": "code",
      "source": [
        "rows=5\n",
        "for i in range(1,rows+1):\n",
        "  print(\" \"*(rows-i)+\"*\"*i)\n",
        "rows=4\n",
        "for i in range(rows,0,-1):\n",
        "  print(\" \"*(rows-(i-1))+\"*\"*i)"
      ],
      "metadata": {
        "colab": {
          "base_uri": "https://localhost:8080/"
        },
        "id": "4q-wjN1woWFG",
        "outputId": "ef99b3e8-454e-4caa-c33c-296e75b23a71"
      },
      "execution_count": null,
      "outputs": [
        {
          "output_type": "stream",
          "name": "stdout",
          "text": [
            "    *\n",
            "   **\n",
            "  ***\n",
            " ****\n",
            "*****\n",
            " ****\n",
            "  ***\n",
            "   **\n",
            "    *\n"
          ]
        }
      ]
    },
    {
      "cell_type": "code",
      "source": [
        "rows=5\n",
        "for i in range(1,rows+1):\n",
        "    print(\" \" * (rows-i),end=\"\")\n",
        "    for j in range(1,i+1):\n",
        "        print(\"*\" ,end=\"\")\n",
        "    print()\n",
        "rows=4\n",
        "for i in range(rows,0,-1):\n",
        "    print(\" \" * (rows-(i-1)),end=\"\")\n",
        "    for j in range(i):\n",
        "        print(\"*\",end=\"\")\n",
        "    print()\n",
        "\n"
      ],
      "metadata": {
        "colab": {
          "base_uri": "https://localhost:8080/"
        },
        "id": "VPvZyb3qq5HM",
        "outputId": "ff8018a6-b26f-4e48-d80a-3e158f69fad0"
      },
      "execution_count": null,
      "outputs": [
        {
          "output_type": "stream",
          "name": "stdout",
          "text": [
            "    *\n",
            "   **\n",
            "  ***\n",
            " ****\n",
            "*****\n",
            " ****\n",
            "  ***\n",
            "   **\n",
            "    *\n"
          ]
        }
      ]
    },
    {
      "cell_type": "code",
      "source": [
        "rows=4\n",
        "for i in range(1,rows+1):\n",
        "  if i==1 or i==2 or i==3:\n",
        "    for j in range(2):\n",
        "      print(\"*\",end=\"\")\n",
        "    print(\" \"*2,end=\"\")\n",
        "    for j in range(2):\n",
        "      print(\"*\",end=\"\")\n",
        "    print()\n",
        "  else:\n",
        "    print(\"*\"*6,end=\"\")"
      ],
      "metadata": {
        "colab": {
          "base_uri": "https://localhost:8080/"
        },
        "id": "EWv28-yArO7X",
        "outputId": "b623742e-7bc8-4865-d1df-b1c2fec65b26"
      },
      "execution_count": null,
      "outputs": [
        {
          "output_type": "stream",
          "name": "stdout",
          "text": [
            "**  **\n",
            "**  **\n",
            "**  **\n",
            "******"
          ]
        }
      ]
    }
  ]
}