{
  "nbformat": 4,
  "nbformat_minor": 0,
  "metadata": {
    "colab": {
      "provenance": []
    },
    "kernelspec": {
      "name": "python3",
      "display_name": "Python 3"
    },
    "language_info": {
      "name": "python"
    }
  },
  "cells": [
    {
      "cell_type": "code",
      "source": [
        "def find_primes_in_range(start, end):\n",
        "    for num in range(start, end + 1):\n",
        "        if num > 1:\n",
        "            for i in range(2, num):\n",
        "                if num % i == 0:\n",
        "                    break\n",
        "            else:\n",
        "                print(num)\n",
        "\n",
        "find_primes_in_range(10, 30)\n"
      ],
      "metadata": {
        "colab": {
          "base_uri": "https://localhost:8080/"
        },
        "id": "DbeqdrKczbat",
        "outputId": "1a95e74e-6e2f-4b1d-d646-c4fb765da25d"
      },
      "execution_count": null,
      "outputs": [
        {
          "output_type": "stream",
          "name": "stdout",
          "text": [
            "11\n",
            "13\n",
            "17\n",
            "19\n",
            "23\n",
            "29\n"
          ]
        }
      ]
    },
    {
      "cell_type": "code",
      "source": [
        "def get_primes_from_list(numbers):\n",
        "    prime_list = []\n",
        "    for num in numbers:\n",
        "        if num > 1:\n",
        "            for i in range(2, num):\n",
        "                if num % i == 0:\n",
        "                    break\n",
        "            else:\n",
        "                prime_list.append(num)\n",
        "    return prime_list\n",
        "\n",
        "my_list = [3, 4, 7, 9, 13, 20, 17]\n",
        "prime_numbers = get_primes_from_list(my_list)\n",
        "print(\"Prime numbers:\", prime_numbers)\n"
      ],
      "metadata": {
        "colab": {
          "base_uri": "https://localhost:8080/"
        },
        "id": "o4Q_Tqt3z1Y2",
        "outputId": "220a628e-226a-43e0-8844-c5493766c5fe"
      },
      "execution_count": null,
      "outputs": [
        {
          "output_type": "stream",
          "name": "stdout",
          "text": [
            "Prime numbers: [3, 7, 13, 17]\n"
          ]
        }
      ]
    },
    {
      "cell_type": "code",
      "source": [
        "def print_my_details(name, age, college, year_passed_out, percentage, native_place):\n",
        "    print(f\"My name is {name}. I am {age} years old. I studied at {college}. I passed out in {year_passed_out} with {percentage}% and my native place is {native_place}.\")\n",
        "print_my_details(\"Ramu\", 22, \"ABC College\", 2023, 78.5, \"Hyderabad\")\n"
      ],
      "metadata": {
        "colab": {
          "base_uri": "https://localhost:8080/"
        },
        "id": "4ZA5HCEDz_5G",
        "outputId": "7a96f022-5bc0-4567-df6a-c4569aa44bec"
      },
      "execution_count": null,
      "outputs": [
        {
          "output_type": "stream",
          "name": "stdout",
          "text": [
            "My name is Ramu. I am 22 years old. I studied at ABC College. I passed out in 2023 with 78.5% and my native place is Hyderabad.\n"
          ]
        }
      ]
    },
    {
      "cell_type": "code",
      "source": [
        "def print_even_numbers(start, end):\n",
        "    for i in range(start, end + 1):\n",
        "        if i % 2 == 0:\n",
        "            print(i)\n",
        "print_even_numbers(1, 11)\n"
      ],
      "metadata": {
        "colab": {
          "base_uri": "https://localhost:8080/"
        },
        "id": "9Vyz-x2o0EuA",
        "outputId": "36e3244a-0bd8-4054-d3e0-dec752b8c0a9"
      },
      "execution_count": null,
      "outputs": [
        {
          "output_type": "stream",
          "name": "stdout",
          "text": [
            "2\n",
            "4\n",
            "6\n",
            "8\n",
            "10\n"
          ]
        }
      ]
    },
    {
      "cell_type": "code",
      "source": [
        "def print_family(f_name, m_name, sibling_name):\n",
        "    print(f\"My father's name is {f_name}, my mother's name is {m_name}, and my sibling's name is {sibling_name}.\")\n",
        "print_family(\"sankar\", \"Lakshmi\", \"devi\")\n"
      ],
      "metadata": {
        "colab": {
          "base_uri": "https://localhost:8080/"
        },
        "id": "NvRJe0dE0JOe",
        "outputId": "4893ee9a-3759-4021-d91e-8231377c1246"
      },
      "execution_count": null,
      "outputs": [
        {
          "output_type": "stream",
          "name": "stdout",
          "text": [
            "My father's name is sankar, my mother's name is Lakshmi, and my sibling's name is devi.\n"
          ]
        }
      ]
    }
  ]
}