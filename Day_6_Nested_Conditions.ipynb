{
  "nbformat": 4,
  "nbformat_minor": 0,
  "metadata": {
    "colab": {
      "provenance": []
    },
    "kernelspec": {
      "name": "python3",
      "display_name": "Python 3"
    },
    "language_info": {
      "name": "python"
    }
  },
  "cells": [
    {
      "cell_type": "markdown",
      "source": [
        "Question 1: YouTube Video Quality Selection\n",
        " Scenario: A user is watching a YouTube video and the platform must select the appropriate video quality\n",
        " based on two conditions: - Internet speed - Whether the user selected \"Auto\" mode or manual mode.\n",
        " 💡 Logic Steps\n",
        " : - Ask if the user selected \"Auto\" or \"Manual\" mode. - If \"Auto\": - If internet speed > 10 Mbps\n",
        " → Play 1080p - Else if speed > 5 Mbps → Play 720p - Else if speed > 2 Mbps → Play 480p - Else → Play 240p\n",
        "If \"Manual\": - Ask for selected quality (e.g., 240p, 480p, 720p, 1080p) - Play the selected quality\n",
        " Expected Understanding: Learn to handle multiple nested conditions and simulate real-time\n",
        " decision logic."
      ],
      "metadata": {
        "id": "e2s4wCjq5Wg1"
      }
    },
    {
      "cell_type": "code",
      "source": [
        "user=input(\"user selected auto or manual mode\")\n",
        "if user==\"auto\":\n",
        "  speed=int(input(\"enter a internet speed\"))\n",
        "  if speed>10:\n",
        "    print(\"play at 1080p\")\n",
        "  elif speed>5:\n",
        "    print(\"play at 720 p\")\n",
        "  elif speed>2:\n",
        "    print(\"play at 480p\")\n",
        "  else:\n",
        "    print(\"play at 240p\")\n",
        "elif user==\"manual\":\n",
        "  quality=input(\"enter a quality\")\n",
        "  selected_qualities=[\"240p\",\"480p\",\"720p\",\"1080p\"]\n",
        "  if quality in selected_qualities:\n",
        "    print(\"play at selected_qualities\")\n",
        "  else:\n",
        "    print(\"invalid please select qualities\")\n",
        "else:\n",
        "  print(\"invalid select modes\")"
      ],
      "metadata": {
        "colab": {
          "base_uri": "https://localhost:8080/"
        },
        "id": "mWiG3hZn5g7l",
        "outputId": "dc8a02fb-b031-4821-b3b3-b9794bf1ead9"
      },
      "execution_count": null,
      "outputs": [
        {
          "output_type": "stream",
          "name": "stdout",
          "text": [
            "user selected auto or manual modemanual\n",
            "enter a quality240p\n",
            "play at selected_qualities\n"
          ]
        }
      ]
    },
    {
      "cell_type": "markdown",
      "source": [
        " Question 2: Hotstar Subscription Plans\n",
        " Scenario: Based on the user's subscription type and payment status, show what content they can access.\n",
        " 💡 Logic Steps\n",
        " : - Ask for subscription type: Free, Super, or Premium - Ask for payment status: Active or\n",
        " Expired - If subscription is Free: - Allow only basic content - If subscription is Super: - If Active → Allow sports\n",
        " + series (with ads) - If Expired → Show message to renew - If subscription is Premium: - If Active → Allow all\n",
        " content (no ads) - If Expired → Show message to renew\n",
        " Expected Understanding: Apply if-elif-else within multiple levels and handle real-world\n",
        " choices"
      ],
      "metadata": {
        "id": "mg5vsb42-r7n"
      }
    },
    {
      "cell_type": "code",
      "source": [
        "user=input(\"enter the subscription type free,super,premium\")\n",
        "payment_status=input(\"enter payment status active or expired\")\n",
        "if user==\"free\":\n",
        "  print(\"allow only basic content\")\n",
        "elif user==\"super\":\n",
        "  if payment_status==\"active\":\n",
        "    print(\"allow sports+series with ads\")\n",
        "  elif payment_status==\"expired\":\n",
        "    print(\"your payment is expired pleas pay to renew\")\n",
        "  else:\n",
        "    print(\"invalid\")\n",
        "elif user==\"premium\":\n",
        "  if payment_status==\"active\":\n",
        "    print(\"all content no ads\")\n",
        "  elif payment_status==\"expired\":\n",
        "    print(\"your payment is expired please pay to renew\")\n",
        "  else:\n",
        "    print(\"invalid\")\n",
        "else:\n",
        "  print(\"invalid user\")\n",
        "\n",
        "\n"
      ],
      "metadata": {
        "colab": {
          "base_uri": "https://localhost:8080/"
        },
        "id": "lUErXA_p-yS7",
        "outputId": "60da8f81-cdc1-46a0-9471-27e790f45e90"
      },
      "execution_count": null,
      "outputs": [
        {
          "output_type": "stream",
          "name": "stdout",
          "text": [
            "enter the subscription type free,super,premiumpremium\n",
            "enter payment status active or expiredexpired\n",
            "your payment is expired please pay to renew\n"
          ]
        }
      ]
    },
    {
      "cell_type": "markdown",
      "source": [
        " Question 3: Bank Loan Approval System\n",
        " Scenario: A bank checks whether a person is eligible for a loan based on credit score and salary.\n",
        " 💡 Logic Steps\n",
        " : - Ask user for credit score - If credit score >= 750: - Ask for monthly salary - If salary >=\n",
        " ₹30,000 → Approve Loan - Else → Ask to increase income - Else if credit score between 600–749: - Ask for co\n",
        "applicant - Else if credit score < 600: - Reject application\n",
        " Expected Understanding: Apply numeric ranges and combine them with nested conditions"
      ],
      "metadata": {
        "id": "3Lf0g70eCv39"
      }
    },
    {
      "cell_type": "code",
      "source": [
        "credit=int(input(\"enter a credit score\"))\n",
        "if credit>=750:\n",
        "  salary=int(input(\"enter a monthly salary\"))\n",
        "  if salary>=30000:\n",
        "    print(\"approve loan\")\n",
        "  else:\n",
        "    print(\"ask to increase income\")\n",
        "elif credit>600 and credit<749:\n",
        "   co_applicant = input(\"Do you have a co-applicant? (yes/no): \").strip().lower()\n",
        "   if co_applicant == \"yes\":\n",
        "        print(\"Loan Approved with Co-applicant.\")\n",
        "   else:\n",
        "        print(\"Loan Rejected. Co-applicant required due to moderate credit score.\")\n",
        "elif credit<600:\n",
        "  print(\"reject application\")\n",
        "\n",
        "\n"
      ],
      "metadata": {
        "colab": {
          "base_uri": "https://localhost:8080/"
        },
        "id": "IUMWdREoCxDT",
        "outputId": "a029b027-288b-4f78-9b66-23bb5792ec75"
      },
      "execution_count": null,
      "outputs": [
        {
          "output_type": "stream",
          "name": "stdout",
          "text": [
            "enter a credit score80000\n",
            "enter a monthly salary80000\n",
            "approve loan\n"
          ]
        }
      ]
    },
    {
      "cell_type": "markdown",
      "source": [
        "Question 4: Swiggy – First-Time Order Offer\n",
        " Scenario: Swiggy wants to apply different discounts or free delivery based on whether the user is placing\n",
        " their first order and the cart value.\n",
        " 1\n",
        "�\n",
        "� Logic Steps\n",
        " : - Ask the user: “Is this your first order?” (Yes or No) - If Yes: - If cart value ≥ ₹149 → Apply\n",
        " “Free Delivery + 20% Off” - Else → Apply “Only Free Delivery” - If No: - If cart value ≥ ₹199 → Apply “₹50 Off”\n",
        " coupon - Else → “No offer applicable, add more items!"
      ],
      "metadata": {
        "id": "PKzTqWnJJHmW"
      }
    },
    {
      "cell_type": "code",
      "source": [
        "user=input(\"enter is this your first order?\")\n",
        "if user==\"yes\":\n",
        "  cart_value=int(input(\"enter a cart value\"))\n",
        "  if cart_value>=149:\n",
        "    print(\"apply free deliver+20%offer\")\n",
        "  else:\n",
        "    print(\"apply only free delivery\")\n",
        "elif user==\"no\":\n",
        "  if cart_value<150 and cart_value>=199:\n",
        "    print(\"apply 50 off coupon\")\n",
        "  else:\n",
        "    print(\"no offer applicable add more items\")\n",
        "else:\n",
        "  print(\"invalid\")"
      ],
      "metadata": {
        "colab": {
          "base_uri": "https://localhost:8080/"
        },
        "id": "dateD4v9JI0f",
        "outputId": "2bd12d3a-06c6-4662-8d0d-663564a4ebe9"
      },
      "execution_count": null,
      "outputs": [
        {
          "output_type": "stream",
          "name": "stdout",
          "text": [
            "enter is this your first order?yes\n",
            "enter a cart value100\n",
            "apply only free delivery\n"
          ]
        }
      ]
    },
    {
      "cell_type": "markdown",
      "source": [
        "Question 5: E-commerce Offer Eligibility\n",
        " Scenario: A user qualifies for a discount based on cart value and whether they are a first-time buyer.\n",
        " 💡 Logic Steps\n",
        " : - Ask if user is a first-time buyer (Yes or No) - Ask for cart total - If first-time buyer: - If cart ≥\n",
        " ₹1000 → 30% discount - Else → 10% discount - If not a first-time buyer: - If cart ≥ ₹2000 → 15% discount\n",
        "Else → No discount"
      ],
      "metadata": {
        "id": "Rtc1pDLsLI_1"
      }
    },
    {
      "cell_type": "code",
      "source": [
        "user=input(\"enter a first time buyer yes/no\")\n",
        "cart_total=input(\"enter a cart total\")\n",
        "if user==\"yes\":\n",
        "  if cart_value>=1000 and cart_value<2000:\n",
        "    print(\"30% discount\")\n",
        "  else:\n",
        "    print(\"10% discount\")\n",
        "elif user==\"no\":\n",
        "  if cart_value>=2000:\n",
        "    print(\"15% discount\")\n",
        "  else:\n",
        "    print(\"no discount\")\n",
        "else:\n",
        "  print(\"invalid\")\n"
      ],
      "metadata": {
        "colab": {
          "base_uri": "https://localhost:8080/"
        },
        "id": "Bc144RdfLKuP",
        "outputId": "348c0191-06f5-4239-f810-5793b986d84c"
      },
      "execution_count": null,
      "outputs": [
        {
          "output_type": "stream",
          "name": "stdout",
          "text": [
            "enter a first time buyer yes/noyes\n",
            "enter a cart total1500\n",
            "10% discount\n"
          ]
        }
      ]
    }
  ]
}