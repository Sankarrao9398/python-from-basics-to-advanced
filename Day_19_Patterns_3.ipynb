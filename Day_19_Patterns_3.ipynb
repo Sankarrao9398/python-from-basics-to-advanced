{
  "nbformat": 4,
  "nbformat_minor": 0,
  "metadata": {
    "colab": {
      "provenance": []
    },
    "kernelspec": {
      "name": "python3",
      "display_name": "Python 3"
    },
    "language_info": {
      "name": "python"
    }
  },
  "cells": [
    {
      "cell_type": "code",
      "execution_count": 2,
      "metadata": {
        "colab": {
          "base_uri": "https://localhost:8080/"
        },
        "id": "7TUZ_mqSUohn",
        "outputId": "794d67cc-40ba-4da2-f803-b9575f287db6"
      },
      "outputs": [
        {
          "output_type": "stream",
          "name": "stdout",
          "text": [
            "A\n",
            "AB\n",
            "ABC\n",
            "ABCD\n",
            "ABCDE\n"
          ]
        }
      ],
      "source": [
        "rows=5\n",
        "for i in range(1,rows+1):\n",
        "  n=65\n",
        "  for j in range(1,i+1):\n",
        "    print(chr(n),end=\"\")\n",
        "    n+=1\n",
        "  print()"
      ]
    },
    {
      "cell_type": "code",
      "source": [
        "rows=5\n",
        "n=65\n",
        "for i in range(1,rows+1):\n",
        "  for j in range(1,i+1):\n",
        "    print(chr(n),end=\"\")\n",
        "  n+=1\n",
        "  print()"
      ],
      "metadata": {
        "colab": {
          "base_uri": "https://localhost:8080/"
        },
        "id": "fV-FiE_mVeQe",
        "outputId": "b3a60361-df08-4d5a-f116-f73134469bc1"
      },
      "execution_count": 3,
      "outputs": [
        {
          "output_type": "stream",
          "name": "stdout",
          "text": [
            "A\n",
            "BB\n",
            "CCC\n",
            "DDDD\n",
            "EEEEE\n"
          ]
        }
      ]
    },
    {
      "cell_type": "code",
      "source": [
        "rows=5\n",
        "n=65\n",
        "for i in range(1,rows+1):\n",
        "  for j in range(1,i+1):\n",
        "    print(chr(n),end=\"\")\n",
        "    n+=1\n",
        "  print()"
      ],
      "metadata": {
        "colab": {
          "base_uri": "https://localhost:8080/"
        },
        "id": "FpOII2vYVlZK",
        "outputId": "96913861-a5d5-41e9-8736-3e6cbd155552"
      },
      "execution_count": 4,
      "outputs": [
        {
          "output_type": "stream",
          "name": "stdout",
          "text": [
            "A\n",
            "BC\n",
            "DEF\n",
            "GHIJ\n",
            "KLMNO\n"
          ]
        }
      ]
    },
    {
      "cell_type": "code",
      "source": [
        "rows=5\n",
        "n=65\n",
        "for i in range(1,rows+1):\n",
        "\n",
        "    for j in range(1,i+1):\n",
        "\n",
        "      if i%2==0:\n",
        "         print(chr(n),end=\"\")\n",
        "         n+=1\n",
        "      else:\n",
        "        print(j,end=\"\")\n",
        "    print()\n",
        "if (i==2) or (i==4):\n",
        "  n=65\n"
      ],
      "metadata": {
        "colab": {
          "base_uri": "https://localhost:8080/"
        },
        "id": "1O7dEWytVup7",
        "outputId": "5176bb9c-5c7d-4411-a149-15b5c6bc3d0a"
      },
      "execution_count": 19,
      "outputs": [
        {
          "output_type": "stream",
          "name": "stdout",
          "text": [
            "1\n",
            "AB\n",
            "123\n",
            "CDEF\n",
            "12345\n"
          ]
        }
      ]
    },
    {
      "cell_type": "code",
      "source": [
        "rows = 5\n",
        "for i in range(1, rows+1):\n",
        "    if i % 2 == 0:\n",
        "        n = 65\n",
        "        for j in range(1, i+1):\n",
        "            print(chr(n), end=\"\")\n",
        "            n += 1\n",
        "    else:\n",
        "        for j in range(1, i+1):\n",
        "            print(j, end=\"\")\n",
        "    print()\n"
      ],
      "metadata": {
        "colab": {
          "base_uri": "https://localhost:8080/"
        },
        "id": "ApkGqIruYqpP",
        "outputId": "89583f38-9f68-4072-8204-5c67a42ea23d"
      },
      "execution_count": 20,
      "outputs": [
        {
          "output_type": "stream",
          "name": "stdout",
          "text": [
            "1\n",
            "AB\n",
            "123\n",
            "ABCD\n",
            "12345\n"
          ]
        }
      ]
    },
    {
      "cell_type": "code",
      "source": [
        "\n",
        "rows=6\n",
        "for i in range(1,rows+1):\n",
        "    print(\" \"*(rows-i)+(\"*\")*i)"
      ],
      "metadata": {
        "colab": {
          "base_uri": "https://localhost:8080/"
        },
        "id": "oZz-U2VtZ4-2",
        "outputId": "bd854cc0-e430-45a0-986d-b89e7bf37378"
      },
      "execution_count": 21,
      "outputs": [
        {
          "output_type": "stream",
          "name": "stdout",
          "text": [
            "     *\n",
            "    **\n",
            "   ***\n",
            "  ****\n",
            " *****\n",
            "******\n"
          ]
        }
      ]
    },
    {
      "cell_type": "code",
      "source": [
        "rows=5\n",
        "n=65\n",
        "b=97\n",
        "for i in range(1,rows+1):\n",
        "    for j in range(1,i+1):\n",
        "      if i%2==0:\n",
        "         print(chr(b),end=\"\")\n",
        "         b+=1\n",
        "      else:\n",
        "        print(chr(n),end=\"\")\n",
        "        n+=1\n",
        "    print()\n",
        "if (i==2) or (i==4):\n",
        "  b=97\n",
        "else:\n",
        "  n=65"
      ],
      "metadata": {
        "colab": {
          "base_uri": "https://localhost:8080/"
        },
        "id": "HVJ6IDXwaB_A",
        "outputId": "99d89ad1-b126-46a1-89b3-6acc1911f619"
      },
      "execution_count": 25,
      "outputs": [
        {
          "output_type": "stream",
          "name": "stdout",
          "text": [
            "A\n",
            "ab\n",
            "BCD\n",
            "cdef\n",
            "EFGHI\n"
          ]
        }
      ]
    },
    {
      "cell_type": "code",
      "source": [
        "rows = 5\n",
        "n = 65\n",
        "b = 97\n",
        "for i in range(1, rows+1):\n",
        "    for j in range(1, i+1):\n",
        "        if i % 2 == 0:\n",
        "            print(chr(b), end=\"\")\n",
        "            b += 1\n",
        "        else:\n",
        "            print(chr(n), end=\"\")\n",
        "            n += 1\n",
        "    print()\n",
        "    if (i == 2) or (i == 4):\n",
        "        b = 97\n",
        "    else:\n",
        "        n = 65\n"
      ],
      "metadata": {
        "colab": {
          "base_uri": "https://localhost:8080/"
        },
        "id": "h-NbXQJ_cPdH",
        "outputId": "c3f1d9a6-0c22-4187-93ac-ce88c494ed86"
      },
      "execution_count": 26,
      "outputs": [
        {
          "output_type": "stream",
          "name": "stdout",
          "text": [
            "A\n",
            "ab\n",
            "ABC\n",
            "abcd\n",
            "ABCDE\n"
          ]
        }
      ]
    },
    {
      "cell_type": "code",
      "source": [
        " rows=5\n",
        " for i in range(1,rows+1):\n",
        "  print(\" \" * (rows - i), end=\"\")\n",
        "  for j in range(1,i+1):\n",
        "    print(j,end=\"\")\n",
        "  print()\n"
      ],
      "metadata": {
        "colab": {
          "base_uri": "https://localhost:8080/"
        },
        "id": "-uEjhaVQbk-7",
        "outputId": "1006852c-d8f5-4f43-e9a0-41f3845f10c4"
      },
      "execution_count": 32,
      "outputs": [
        {
          "output_type": "stream",
          "name": "stdout",
          "text": [
            "    1\n",
            "   12\n",
            "  123\n",
            " 1234\n",
            "12345\n"
          ]
        }
      ]
    },
    {
      "cell_type": "code",
      "source": [
        "rows=5\n",
        "for i in range(1,rows+1):\n",
        "  print(\" \" * (rows - i), end=\"\")\n",
        "  for j in range(1,i+1):\n",
        "    print(i,end=\"\")\n",
        "  print()"
      ],
      "metadata": {
        "colab": {
          "base_uri": "https://localhost:8080/"
        },
        "id": "SnXX0T9yeRX8",
        "outputId": "571a7e3b-db1b-4410-df28-82a33a00b26e"
      },
      "execution_count": 34,
      "outputs": [
        {
          "output_type": "stream",
          "name": "stdout",
          "text": [
            "    1\n",
            "   22\n",
            "  333\n",
            " 4444\n",
            "55555\n"
          ]
        }
      ]
    },
    {
      "cell_type": "code",
      "source": [
        "rows=5\n",
        "for i in range(1,rows+1):\n",
        "  n=65\n",
        "  print(\" \" * (rows - i), end=\"\")\n",
        "  for j in range(1,i+1):\n",
        "    print(chr(n),end=\"\")\n",
        "    n+=1\n",
        "  print()"
      ],
      "metadata": {
        "colab": {
          "base_uri": "https://localhost:8080/"
        },
        "id": "Rji37dnJeex2",
        "outputId": "a77ed79c-476e-4226-8527-99fa92c3b985"
      },
      "execution_count": 35,
      "outputs": [
        {
          "output_type": "stream",
          "name": "stdout",
          "text": [
            "    A\n",
            "   AB\n",
            "  ABC\n",
            " ABCD\n",
            "ABCDE\n"
          ]
        }
      ]
    },
    {
      "cell_type": "code",
      "source": [
        "rows=5\n",
        "n=65\n",
        "for i in range(1,rows+1):\n",
        "  print(\" \" * (rows - i), end=\"\")\n",
        "  for j in range(1,i+1):\n",
        "    print(chr(n),end=\"\")\n",
        "  n+=1\n",
        "  print()"
      ],
      "metadata": {
        "colab": {
          "base_uri": "https://localhost:8080/"
        },
        "id": "T3x48ZWferEh",
        "outputId": "33e50378-93a4-4913-c1ae-19c7ab942009"
      },
      "execution_count": 36,
      "outputs": [
        {
          "output_type": "stream",
          "name": "stdout",
          "text": [
            "    A\n",
            "   BB\n",
            "  CCC\n",
            " DDDD\n",
            "EEEEE\n"
          ]
        }
      ]
    },
    {
      "cell_type": "code",
      "source": [
        "rows=5\n",
        "n=65\n",
        "for i in range(1,rows+1):\n",
        "  print(\" \" * (rows - i), end=\"\")\n",
        "  for j in range(1,i+1):\n",
        "\n",
        "      if i%2==0:\n",
        "         print(chr(n),end=\"\")\n",
        "         n+=1\n",
        "      else:\n",
        "        print(j,end=\"\")\n",
        "  print()\n",
        "if (i==2) or (i==4):\n",
        "  n=65"
      ],
      "metadata": {
        "colab": {
          "base_uri": "https://localhost:8080/"
        },
        "id": "U8g1iD1SeyoS",
        "outputId": "c4e85698-9055-4da5-d348-96f61f34ad1f"
      },
      "execution_count": 39,
      "outputs": [
        {
          "output_type": "stream",
          "name": "stdout",
          "text": [
            "    1\n",
            "   AB\n",
            "  123\n",
            " CDEF\n",
            "12345\n"
          ]
        }
      ]
    },
    {
      "cell_type": "code",
      "source": [
        "rows=5\n",
        "n=65\n",
        "b=97\n",
        "for i in range(1,rows+1):\n",
        "  print(\" \"*(rows-i),end=\"\")\n",
        "  for j in range(1,i+1):\n",
        "      if i%2==0:\n",
        "         print(chr(b),end=\"\")\n",
        "         b+=1\n",
        "      else:\n",
        "        print(chr(n),end=\"\")\n",
        "        n+=1\n",
        "  print()\n",
        "if (i==2) or (i==4):\n",
        "  b=97\n",
        "else:\n",
        "  n=65"
      ],
      "metadata": {
        "colab": {
          "base_uri": "https://localhost:8080/"
        },
        "id": "etYY63g1fBW3",
        "outputId": "6adf05dc-8869-46e0-ed94-859e6bd554f9"
      },
      "execution_count": 41,
      "outputs": [
        {
          "output_type": "stream",
          "name": "stdout",
          "text": [
            "    A\n",
            "   ab\n",
            "  BCD\n",
            " cdef\n",
            "EFGHI\n"
          ]
        }
      ]
    }
  ]
}