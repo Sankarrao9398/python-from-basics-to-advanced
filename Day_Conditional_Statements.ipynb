{
  "nbformat": 4,
  "nbformat_minor": 0,
  "metadata": {
    "colab": {
      "provenance": []
    },
    "kernelspec": {
      "name": "python3",
      "display_name": "Python 3"
    },
    "language_info": {
      "name": "python"
    }
  },
  "cells": [
    {
      "cell_type": "markdown",
      "source": [
        "Write a program to check whether a number is positive, negative, or zero."
      ],
      "metadata": {
        "id": "UWtrhbk9gF6W"
      }
    },
    {
      "cell_type": "code",
      "source": [
        "n=int(input(\"enter a number\"))\n",
        "if n>0:\n",
        "  print(\"positive\")\n",
        "elif n<0:\n",
        "  print(\"negative\")\n",
        "else:\n",
        "  print(\"zer0\")"
      ],
      "metadata": {
        "colab": {
          "base_uri": "https://localhost:8080/"
        },
        "id": "ddcY2JKZgO19",
        "outputId": "1eebfee8-2981-4045-eabe-2af6641f4e3c"
      },
      "execution_count": null,
      "outputs": [
        {
          "output_type": "stream",
          "name": "stdout",
          "text": [
            "enter a number21\n",
            "positive\n"
          ]
        }
      ]
    },
    {
      "cell_type": "markdown",
      "source": [
        " Write a program to find the largest of three given numbers"
      ],
      "metadata": {
        "id": "d1RPFEbnhrvG"
      }
    },
    {
      "cell_type": "code",
      "source": [
        "n1=int(input(\"enter a first number\"))\n",
        "n2=int(input(\"enter a second number\"))\n",
        "n3=int(input(\"enter a third number\"))\n",
        "if (n1>=n2) and (n1>=n3):\n",
        "  largest=n1\n",
        "elif(n>=n1) and (n2>=n3):\n",
        "  largest=n2\n",
        "else:\n",
        "  largest=n3\n",
        "print(\"the largest number is\",largest)"
      ],
      "metadata": {
        "colab": {
          "base_uri": "https://localhost:8080/"
        },
        "id": "1EVWVdZrhqMo",
        "outputId": "00782624-2526-4aba-fe41-e89623e23e2c"
      },
      "execution_count": null,
      "outputs": [
        {
          "output_type": "stream",
          "name": "stdout",
          "text": [
            "enter a first number56\n",
            "enter a second number12\n",
            "enter a third number34\n",
            "the largest number is 56\n"
          ]
        }
      ]
    },
    {
      "cell_type": "markdown",
      "source": [
        " 3. Check if a character is a vowel\n",
        " Task:\n",
        " Check if the entered character is a vowel (\n",
        " Expected Understanding:\n",
        " Use the\n",
        "a, e, i, o, u ).\n",
        " in operator and string comparison to test character membership"
      ],
      "metadata": {
        "id": "bxGlhlp1jp_0"
      }
    },
    {
      "cell_type": "code",
      "source": [
        "ch=input(\"enter a character\")\n",
        "if ch in (\"a e i o u\"):\n",
        "  print(f\"ch is  a vowel\")\n",
        "else:\n",
        "  print(f\" ch is not a vowel\")"
      ],
      "metadata": {
        "colab": {
          "base_uri": "https://localhost:8080/"
        },
        "id": "bgiuWsq7kIXY",
        "outputId": "504739d9-428d-455f-ea83-4970d063c35e"
      },
      "execution_count": null,
      "outputs": [
        {
          "output_type": "stream",
          "name": "stdout",
          "text": [
            "enter a characterg\n",
            " ch is not a vowel\n"
          ]
        }
      ]
    },
    {
      "cell_type": "markdown",
      "source": [
        " Check whether a number is even and divisible by 5\n",
        " Task:\n",
        " Write a program to check if a number is both even and divisible by 5.\n",
        " Expected Understanding:\n",
        " Apply modulo operator\n",
        "% and combine multiple conditions with\n",
        "and"
      ],
      "metadata": {
        "id": "ShxxtCIWk_gQ"
      }
    },
    {
      "cell_type": "code",
      "source": [
        "n=int(input(\"enter a number\"))\n",
        "if (n%2==0) and (n%5==0):\n",
        "  print(\"it is even and divisible by 5\")\n",
        "else:\n",
        "  print(\"it is not even and divisible by 5\")"
      ],
      "metadata": {
        "colab": {
          "base_uri": "https://localhost:8080/"
        },
        "id": "9jCJe6VtlcZ9",
        "outputId": "bd544ecd-fc8f-458c-a0f1-38fd5eee8424"
      },
      "execution_count": null,
      "outputs": [
        {
          "output_type": "stream",
          "name": "stdout",
          "text": [
            "enter a number3\n",
            "it is not even and divisible by 5\n"
          ]
        }
      ]
    },
    {
      "cell_type": "markdown",
      "source": [
        "Task:\n",
        " Calculate the total bill based on units consumed: - 0–100 → ₹5/unit\n",
        " 1\n",
        "- 101–200 → ₹7/unit- Above 200 → ₹10/unit"
      ],
      "metadata": {
        "id": "_d9q4TXOmIH3"
      }
    },
    {
      "cell_type": "code",
      "source": [
        "n=int(input(\"enter a number\"))\n",
        "if n<=100:\n",
        "  b=n*5\n",
        "elif n<=200:\n",
        "  b=(100*5)+(n-100)*7\n",
        "else:\n",
        "  b=(100*5)+(100*7)+(b-200)*10\n",
        "print(\"total bill payment\",b)"
      ],
      "metadata": {
        "colab": {
          "base_uri": "https://localhost:8080/"
        },
        "id": "cRrJof7ZmKQk",
        "outputId": "e1cfaecc-ea37-48d1-830a-679379436db4"
      },
      "execution_count": null,
      "outputs": [
        {
          "output_type": "stream",
          "name": "stdout",
          "text": [
            "enter a number50\n",
            "total bill payment 250\n"
          ]
        }
      ]
    },
    {
      "cell_type": "markdown",
      "source": [
        " Task:\n",
        " Input percentage and print: - 90+ → A- 75–89 → B- 50–74 → C- Below 50 → Fail\n",
        " Expected Understanding:\n",
        " Use chained conditions to match ranges with output categories."
      ],
      "metadata": {
        "id": "R3l5MUuSoE_l"
      }
    },
    {
      "cell_type": "code",
      "source": [
        "n=int(input(\"enter a number\"))\n",
        "if n>=90:\n",
        "  print(\"the grade is A\")\n",
        "elif n>=75:\n",
        "  print(\"the grade is b\")\n",
        "elif n>=50:\n",
        "  print(\"the grade is c\")\n",
        "else:\n",
        "  print(\"fail\")"
      ],
      "metadata": {
        "colab": {
          "base_uri": "https://localhost:8080/"
        },
        "id": "gZ5kNg7moGq0",
        "outputId": "fc2533d8-f75a-40a6-f52d-2a4622dd1074"
      },
      "execution_count": null,
      "outputs": [
        {
          "output_type": "stream",
          "name": "stdout",
          "text": [
            "enter a number3\n",
            "fail\n"
          ]
        }
      ]
    },
    {
      "cell_type": "markdown",
      "source": [
        " 7. Check Login Credentials\n",
        " Task:\n",
        " Take a username and password and validate them with predefined values.\n",
        " Expected Understanding:\n",
        " Use logical\n",
        "and and comparison (\n",
        " == ) to check if both values match expected input."
      ],
      "metadata": {
        "id": "F2jl2qVwpgj8"
      }
    },
    {
      "cell_type": "code",
      "source": [
        "username=\"sankar\"\n",
        "password=\"9398960873\"\n",
        "username=input(\"enter a name\")\n",
        "password=input(\"enter a password\")\n",
        "if username==username and password==password:\n",
        "  print(\"he is validated person\")\n",
        "else:\n",
        "  print(\"he is not a validated person\")"
      ],
      "metadata": {
        "colab": {
          "base_uri": "https://localhost:8080/"
        },
        "id": "QVyNTAc5pfv3",
        "outputId": "17c3b541-c939-4c59-cae9-603c87369461"
      },
      "execution_count": null,
      "outputs": [
        {
          "output_type": "stream",
          "name": "stdout",
          "text": [
            "enter a namesankar\n",
            "enter a password9398960873\n",
            "he is validated person\n"
          ]
        }
      ]
    },
    {
      "cell_type": "markdown",
      "source": [
        " 8. Simple Calculator\n",
        " Task:\n",
        " Take two numbers and an operator (+, -, *, /) and print the result.\n",
        " Expected Understanding:\n",
        " Use conditionals to check the operator and apply the correct arithmetic operation."
      ],
      "metadata": {
        "id": "Yr4mDX2mrIC_"
      }
    },
    {
      "cell_type": "code",
      "source": [
        "a=int(input(\"enter a first number\"))\n",
        "b=int(input(\"enter a second number\"))\n",
        "c=a+b\n",
        "print(c)"
      ],
      "metadata": {
        "colab": {
          "base_uri": "https://localhost:8080/"
        },
        "id": "OOngVm1xrJXW",
        "outputId": "907c14fc-5ce6-44ea-cf8b-9c2e8a5b496b"
      },
      "execution_count": null,
      "outputs": [
        {
          "output_type": "stream",
          "name": "stdout",
          "text": [
            "enter a first number2\n",
            "enter a second number3\n",
            "5\n"
          ]
        }
      ]
    },
    {
      "cell_type": "markdown",
      "source": [
        " Task:\n",
        " Check if a number exists in a predefined list.\n",
        " Expected Understanding:\n",
        " Use the\n",
        "in operator and conditional\n",
        "if to check for membership"
      ],
      "metadata": {
        "id": "krf3RM2hr49E"
      }
    },
    {
      "cell_type": "code",
      "source": [
        "list=[1,3,4,5,7]\n",
        "n=int(input(\"enter a list\"))\n",
        "if n in  list:\n",
        "  print(\"number is in the list\")\n",
        "else:\n",
        "  print(\"numbetr is not in the list\")\n",
        "\n"
      ],
      "metadata": {
        "colab": {
          "base_uri": "https://localhost:8080/"
        },
        "id": "vbUiSomFr7PP",
        "outputId": "3f8ed0aa-b0c3-4c8e-cf64-8ab1c743864d"
      },
      "execution_count": null,
      "outputs": [
        {
          "output_type": "stream",
          "name": "stdout",
          "text": [
            "enter a list2\n",
            "numbetr is not in the list\n"
          ]
        }
      ]
    },
    {
      "cell_type": "markdown",
      "source": [
        "10. Check if a string is a palindrome\n",
        " Task:\n",
        " Check if the given string reads the same backward.\n",
        " Expected Understanding:\n",
        " Use string slicing and equality comparison to test palindromes\n"
      ],
      "metadata": {
        "id": "v0HpI0Et3zOe"
      }
    },
    {
      "cell_type": "code",
      "source": [
        "n=input(\"enter a string\")\n",
        "if n==n[::-1]:\n",
        "  print(\"string is a palindrome\")\n",
        "else:\n",
        "  print(\"it is not a palindrome\")\n"
      ],
      "metadata": {
        "colab": {
          "base_uri": "https://localhost:8080/"
        },
        "id": "v269Ub9331CO",
        "outputId": "6a6d9495-546d-41ee-b36c-20fd6667a9b8"
      },
      "execution_count": null,
      "outputs": [
        {
          "output_type": "stream",
          "name": "stdout",
          "text": [
            "enter a stringhello\n",
            "it is not a palindrome\n"
          ]
        }
      ]
    },
    {
      "cell_type": "markdown",
      "source": [
        " 11. Check if a number is within a range\n",
        " Task:\n",
        " Check if a number lies between 10 and 50 (inclusive).\n",
        " Expected Understanding:\n",
        " Use chained comparison like\n",
        "10 <= num <= 50 with\n",
        "if"
      ],
      "metadata": {
        "id": "jAbrp0RR42_Z"
      }
    },
    {
      "cell_type": "code",
      "source": [
        "n=int(input(\"enter a number\"))\n",
        "if 10<=n<=50:\n",
        "  print(\"the number is in the range\")"
      ],
      "metadata": {
        "colab": {
          "base_uri": "https://localhost:8080/"
        },
        "id": "i8e8o-HY4yzn",
        "outputId": "c337e1f5-e653-4090-f07e-dc10502ef22a"
      },
      "execution_count": null,
      "outputs": [
        {
          "output_type": "stream",
          "name": "stdout",
          "text": [
            "enter a number45\n",
            "the number is in the range\n"
          ]
        }
      ]
    },
    {
      "cell_type": "markdown",
      "source": [
        " 12. Determine age group\n",
        " Task:\n",
        " Categorize age into: - <13 → Child- 13–19 → Teen- 20–59 → Adult- 60+ → Senior\n",
        " Expected Understanding:\n",
        " Use range checks with\n",
        "if-elif-else to classify age into defined groups"
      ],
      "metadata": {
        "id": "4hkUGVTD5WXZ"
      }
    },
    {
      "cell_type": "code",
      "source": [
        "n=int(input(\"enter a age\"))\n",
        "if n<13:\n",
        "  print(\"the person is child\")\n",
        "elif n<=19:\n",
        "  print(\"the person is teen\")\n",
        "elif n<=59:\n",
        "  print(\"the person is adult\")\n",
        "else:\n",
        "  print(\"the person is senior\")"
      ],
      "metadata": {
        "colab": {
          "base_uri": "https://localhost:8080/"
        },
        "id": "CmgstpCB5Ysd",
        "outputId": "fc990b83-052d-4316-ddf5-8ce9910d3d81"
      },
      "execution_count": null,
      "outputs": [
        {
          "output_type": "stream",
          "name": "stdout",
          "text": [
            "enter a age69\n",
            "the person is senior\n"
          ]
        }
      ]
    },
    {
      "cell_type": "markdown",
      "source": [
        "13. Compare two strings ignoring case\n",
        " Task:\n",
        " Check if two strings are equal (case-insensitive).\n",
        " Expected Understanding:\n",
        " Use\n",
        ".lower() or\n",
        ".upper() for normalization and then compare strings"
      ],
      "metadata": {
        "id": "U4rFbZ1m6L0K"
      }
    },
    {
      "cell_type": "code",
      "source": [
        "n1=input(\"enter a first string\")\n",
        "n2=input(\"enter a second string\")\n",
        "if n1.lower()==n2.lower():\n",
        "  print(\"the both string or equal (case-insensitive)\"  )\n",
        "else:\n",
        "  print(\"the strings are not equal\")"
      ],
      "metadata": {
        "colab": {
          "base_uri": "https://localhost:8080/"
        },
        "id": "KKuqv6Fz6Ngm",
        "outputId": "f39a69e5-6b3a-4db2-d352-a48a19fb9156"
      },
      "execution_count": null,
      "outputs": [
        {
          "output_type": "stream",
          "name": "stdout",
          "text": [
            "enter a first stringsankar\n",
            "enter a second stringSankar\n",
            "the both string or equal (case-insensitive)\n"
          ]
        }
      ]
    },
    {
      "cell_type": "markdown",
      "source": [
        " 14. Traffic Light Simulator\n",
        " Task:\n",
        " Given a signal color (\n",
        " red ,\n",
        "yellow , or\n",
        "green ), print appropriate action.\n",
        " 3\n",
        "Expected Understanding:\n",
        " Use string comparison with\n",
        "if-elif-else to simulate decision-making"
      ],
      "metadata": {
        "id": "VIXr4Cfh7pTb"
      }
    },
    {
      "cell_type": "code",
      "source": [
        "n=input(\"enter a string\")\n",
        "if n==\"green\":\n",
        "  print(\"go\")\n",
        "elif n==\"yellow\":\n",
        "  print(\"wait\")\n",
        "else:\n",
        "  print(\"stop\")"
      ],
      "metadata": {
        "colab": {
          "base_uri": "https://localhost:8080/"
        },
        "id": "2S3bOaG67q4B",
        "outputId": "295525e3-4cde-4755-f48f-a4f74c9c2b3b"
      },
      "execution_count": null,
      "outputs": [
        {
          "output_type": "stream",
          "name": "stdout",
          "text": [
            "enter a stringred\n",
            "stop\n"
          ]
        }
      ]
    },
    {
      "cell_type": "markdown",
      "source": [
        "15. ATM Withdrawal Simulation\n",
        " Task:\n",
        " Check if the entered withdrawal amount is a multiple of 100 and within the available balance.\n",
        " Expected Understanding:\n",
        " Use conditionals to verify multiple conditions before proceeding with an operation."
      ],
      "metadata": {
        "id": "Nupgc9iM8Ky0"
      }
    },
    {
      "cell_type": "code",
      "source": [
        "balance = 1000\n",
        "n= int(input(\"Enter withdrawal amount: \"))\n",
        "if n % 100 != 0:\n",
        "    print(\"Amount must be a multiple of 100.\")\n",
        "elif n > balance:\n",
        "    print(\"Insufficient balance.\")\n",
        "else:\n",
        "    balance -= n\n",
        "    print(f\"Withdrawal successful. Remaining balance:{balance}\")\n"
      ],
      "metadata": {
        "colab": {
          "base_uri": "https://localhost:8080/"
        },
        "id": "-Tyu4X458Ipd",
        "outputId": "d2011341-06c2-4d44-ccc6-8aa75d949612"
      },
      "execution_count": null,
      "outputs": [
        {
          "output_type": "stream",
          "name": "stdout",
          "text": [
            "Enter withdrawal amount: 1000\n",
            "Withdrawal successful. Remaining balance:0\n"
          ]
        }
      ]
    }
  ]
}