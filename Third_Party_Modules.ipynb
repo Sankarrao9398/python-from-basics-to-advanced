{
  "nbformat": 4,
  "nbformat_minor": 0,
  "metadata": {
    "colab": {
      "provenance": [],
      "authorship_tag": "ABX9TyPeT6TBtHGd6AG5yUi/MxSA",
      "include_colab_link": true
    },
    "kernelspec": {
      "name": "python3",
      "display_name": "Python 3"
    },
    "language_info": {
      "name": "python"
    }
  },
  "cells": [
    {
      "cell_type": "markdown",
      "metadata": {
        "id": "view-in-github",
        "colab_type": "text"
      },
      "source": [
        "<a href=\"https://colab.research.google.com/github/Sankarrao9398/python-from-basics-to-advanced/blob/main/Third_Party_Modules.ipynb\" target=\"_parent\"><img src=\"https://colab.research.google.com/assets/colab-badge.svg\" alt=\"Open In Colab\"/></a>"
      ]
    },
    {
      "cell_type": "code",
      "execution_count": 6,
      "metadata": {
        "id": "6DewHO4DMhVv"
      },
      "outputs": [],
      "source": [
        "import requests\n",
        "posts_url = \"https://jsonplaceholder.typicode.com/posts\"\n",
        "\n"
      ]
    },
    {
      "cell_type": "code",
      "source": [
        "# 1. Fetch all posts\n",
        "all_posts = requests.get(posts_url).json()\n",
        "print(\"Total posts:\", len(all_posts))  # Number of posts"
      ],
      "metadata": {
        "colab": {
          "base_uri": "https://localhost:8080/",
          "height": 0
        },
        "id": "fpibkIeqMqKW",
        "outputId": "db12096f-27e8-4ac2-bab8-a3d46fd62741"
      },
      "execution_count": 3,
      "outputs": [
        {
          "output_type": "stream",
          "name": "stdout",
          "text": [
            "Total posts: 100\n"
          ]
        }
      ]
    },
    {
      "cell_type": "code",
      "source": [
        "# 3. Fetch posts where userId=3 and count them\n",
        "user3_posts = []\n",
        "for post in all_posts:\n",
        "    if post[\"userId\"] == 3:\n",
        "        user3_posts.append(post)\n",
        "print(\"Number of posts by userId 3:\", len(user3_posts))"
      ],
      "metadata": {
        "colab": {
          "base_uri": "https://localhost:8080/",
          "height": 0
        },
        "id": "WhYE5-miNDOW",
        "outputId": "8db42db5-ee51-4bbe-e955-e006e7d1da41"
      },
      "execution_count": 4,
      "outputs": [
        {
          "output_type": "stream",
          "name": "stdout",
          "text": [
            "Number of posts by userId 3: 10\n"
          ]
        }
      ]
    },
    {
      "cell_type": "code",
      "source": [
        "# 4. Fetch post with id=50 and print title and body\n",
        "post_50 = requests.get(f\"{posts_url}/50\").json()\n",
        "print(\"Post 50 title:\", post_50[\"title\"])\n",
        "print(\"Post 50 body:\", post_50[\"body\"])"
      ],
      "metadata": {
        "colab": {
          "base_uri": "https://localhost:8080/",
          "height": 0
        },
        "id": "dEoCJkN8NI5D",
        "outputId": "d4f12774-1cbe-4a09-8f23-4c9308e6b27a"
      },
      "execution_count": 5,
      "outputs": [
        {
          "output_type": "stream",
          "name": "stdout",
          "text": [
            "Post 50 title: repellendus qui recusandae incidunt voluptates tenetur qui omnis exercitationem\n",
            "Post 50 body: error suscipit maxime adipisci consequuntur recusandae\n",
            "voluptas eligendi et est et voluptates\n",
            "quia distinctio ab amet quaerat molestiae et vitae\n",
            "adipisci impedit sequi nesciunt quis consectetur\n"
          ]
        }
      ]
    },
    {
      "cell_type": "code",
      "source": [
        "# 5. Fetch posts for userId=7 and print only their IDs\n",
        "user7_post_ids = []\n",
        "for post in all_posts:\n",
        "    if post[\"userId\"] == 7:\n",
        "        user7_post_ids.append(post[\"id\"])\n",
        "print(\"IDs of posts by userId 7:\", user7_post_ids)"
      ],
      "metadata": {
        "colab": {
          "base_uri": "https://localhost:8080/",
          "height": 0
        },
        "id": "77J1CyaONNis",
        "outputId": "52ada176-971b-4bac-b5e0-2c4d893e3e07"
      },
      "execution_count": 7,
      "outputs": [
        {
          "output_type": "stream",
          "name": "stdout",
          "text": [
            "IDs of posts by userId 7: [61, 62, 63, 64, 65, 66, 67, 68, 69, 70]\n"
          ]
        }
      ]
    },
    {
      "cell_type": "code",
      "source": [
        "users_url = \"https://jsonplaceholder.typicode.com/users\"\n",
        "all_users = requests.get(users_url).json()\n",
        "# 1. Count all users\n",
        "print(\"Total users:\", len(all_users))\n",
        "\n"
      ],
      "metadata": {
        "colab": {
          "base_uri": "https://localhost:8080/",
          "height": 0
        },
        "id": "iOblA8FeNWQN",
        "outputId": "eb73d4e1-a1fb-4d2c-ba9c-d26a5b59503d"
      },
      "execution_count": 8,
      "outputs": [
        {
          "output_type": "stream",
          "name": "stdout",
          "text": [
            "Total users: 10\n"
          ]
        }
      ]
    },
    {
      "cell_type": "code",
      "source": [
        "# 2. Get user by ID = 5\n",
        "user5 = requests.get(f\"{users_url}/5\").json()\n",
        "print(\"User 5 Name:\", user5[\"name\"])\n",
        "print(\"User 5 Email:\", user5[\"email\"])"
      ],
      "metadata": {
        "colab": {
          "base_uri": "https://localhost:8080/",
          "height": 0
        },
        "id": "QNPe_E-tNbNG",
        "outputId": "05801d07-7550-42a2-bf8c-9409566e339a"
      },
      "execution_count": 9,
      "outputs": [
        {
          "output_type": "stream",
          "name": "stdout",
          "text": [
            "User 5 Name: Chelsey Dietrich\n",
            "User 5 Email: Lucio_Hettinger@annie.ca\n"
          ]
        }
      ]
    },
    {
      "cell_type": "code",
      "source": [
        "# 3. Find user(s) with username \"Bret\"\n",
        "bret_users = []\n",
        "for user in all_users:\n",
        "    if user[\"username\"] == \"Bret\":\n",
        "        bret_users.append(user)\n",
        "print(\"User(s) with username 'Bret':\", bret_users)"
      ],
      "metadata": {
        "colab": {
          "base_uri": "https://localhost:8080/",
          "height": 0
        },
        "id": "OObvL04sNcR2",
        "outputId": "432cfbf8-f6d5-45f7-ad91-9fbb89d83fc5"
      },
      "execution_count": 10,
      "outputs": [
        {
          "output_type": "stream",
          "name": "stdout",
          "text": [
            "User(s) with username 'Bret': [{'id': 1, 'name': 'Leanne Graham', 'username': 'Bret', 'email': 'Sincere@april.biz', 'address': {'street': 'Kulas Light', 'suite': 'Apt. 556', 'city': 'Gwenborough', 'zipcode': '92998-3874', 'geo': {'lat': '-37.3159', 'lng': '81.1496'}}, 'phone': '1-770-736-8031 x56442', 'website': 'hildegard.org', 'company': {'name': 'Romaguera-Crona', 'catchPhrase': 'Multi-layered client-server neural-net', 'bs': 'harness real-time e-markets'}}]\n"
          ]
        }
      ]
    },
    {
      "cell_type": "code",
      "source": [
        "# 4. Users in city \"South Christy\"\n",
        "south_christy_users = []\n",
        "for user in all_users:\n",
        "    if user[\"address\"][\"city\"] == \"South Christy\":\n",
        "        south_christy_users.append(user[\"name\"])\n",
        "print(\"Users in South Christy:\", south_christy_users)"
      ],
      "metadata": {
        "colab": {
          "base_uri": "https://localhost:8080/",
          "height": 0
        },
        "id": "G_e-VMVlNg9y",
        "outputId": "b0719a89-6614-4db5-b4d5-c4a499914774"
      },
      "execution_count": 11,
      "outputs": [
        {
          "output_type": "stream",
          "name": "stdout",
          "text": [
            "Users in South Christy: ['Mrs. Dennis Schulist']\n"
          ]
        }
      ]
    },
    {
      "cell_type": "code",
      "source": [
        "# 5. IDs of users whose company name contains \"Group\"\n",
        "group_user_ids = []\n",
        "for user in all_users:\n",
        "    if \"Group\" in user[\"company\"][\"name\"]:\n",
        "        group_user_ids.append(user[\"id\"])\n",
        "print(\"User IDs with company containing 'Group':\", group_user_ids)"
      ],
      "metadata": {
        "colab": {
          "base_uri": "https://localhost:8080/",
          "height": 0
        },
        "id": "50fHU_69NjQa",
        "outputId": "68a11655-b53c-4bfc-b9a4-2d5a6a26efb2"
      },
      "execution_count": 12,
      "outputs": [
        {
          "output_type": "stream",
          "name": "stdout",
          "text": [
            "User IDs with company containing 'Group': [7, 8]\n"
          ]
        }
      ]
    },
    {
      "cell_type": "code",
      "source": [
        "# Base URL for todos\n",
        "todos_url = \"https://jsonplaceholder.typicode.com/todos\"\n",
        "all_todos = requests.get(todos_url).json()\n",
        "\n",
        "# 1. Count all todos\n",
        "print(\"Total todos:\", len(all_todos))\n",
        "\n"
      ],
      "metadata": {
        "colab": {
          "base_uri": "https://localhost:8080/",
          "height": 0
        },
        "id": "O7cTksAxNtgl",
        "outputId": "ae78b42b-711f-4b2a-9d8a-1860238c2139"
      },
      "execution_count": 13,
      "outputs": [
        {
          "output_type": "stream",
          "name": "stdout",
          "text": [
            "Total todos: 200\n"
          ]
        }
      ]
    },
    {
      "cell_type": "code",
      "source": [
        "\n",
        "# 2. Get todo with ID = 42\n",
        "todo_42 = requests.get(f\"{todos_url}/42\").json()\n",
        "print(\"Todo 42 title:\", todo_42[\"title\"])\n"
      ],
      "metadata": {
        "colab": {
          "base_uri": "https://localhost:8080/",
          "height": 0
        },
        "id": "Ck8JYvA4Nv9o",
        "outputId": "f132f663-6a03-4330-8b54-b4a112231e19"
      },
      "execution_count": 14,
      "outputs": [
        {
          "output_type": "stream",
          "name": "stdout",
          "text": [
            "Todo 42 title: rerum perferendis error quia ut eveniet\n"
          ]
        }
      ]
    },
    {
      "cell_type": "code",
      "source": [
        "\n",
        "# 3. Count todos for userId = 3\n",
        "user3_todos = []\n",
        "for todo in all_todos:\n",
        "    if todo[\"userId\"] == 3:\n",
        "        user3_todos.append(todo)\n",
        "print(\"Number of todos for userId 3:\", len(user3_todos))\n"
      ],
      "metadata": {
        "colab": {
          "base_uri": "https://localhost:8080/",
          "height": 0
        },
        "id": "fmpj0fqDNyJM",
        "outputId": "bbc2d098-53fa-4427-afa6-d0097fbe8769"
      },
      "execution_count": 15,
      "outputs": [
        {
          "output_type": "stream",
          "name": "stdout",
          "text": [
            "Number of todos for userId 3: 20\n"
          ]
        }
      ]
    },
    {
      "cell_type": "code",
      "source": [
        "\n",
        "# 4. List IDs of incomplete todos\n",
        "incomplete_todo_ids = []\n",
        "for todo in all_todos:\n",
        "    if todo[\"completed\"] == False:\n",
        "        incomplete_todo_ids.append(todo[\"id\"])\n",
        "print(\"IDs of incomplete todos:\", incomplete_todo_ids)\n"
      ],
      "metadata": {
        "colab": {
          "base_uri": "https://localhost:8080/",
          "height": 0
        },
        "id": "jp0Ta2KjN0g-",
        "outputId": "99239d49-7731-40cf-8596-6adc5113fc3e"
      },
      "execution_count": 16,
      "outputs": [
        {
          "output_type": "stream",
          "name": "stdout",
          "text": [
            "IDs of incomplete todos: [1, 2, 3, 5, 6, 7, 9, 13, 18, 21, 23, 24, 28, 29, 31, 32, 33, 34, 37, 38, 39, 41, 42, 45, 46, 47, 48, 49, 51, 52, 53, 57, 58, 59, 62, 64, 65, 66, 67, 68, 69, 70, 71, 72, 74, 75, 77, 78, 82, 84, 88, 94, 96, 97, 99, 100, 101, 102, 103, 104, 107, 111, 112, 113, 114, 115, 117, 118, 119, 120, 123, 124, 125, 128, 129, 131, 134, 135, 136, 137, 139, 143, 144, 145, 148, 149, 150, 152, 153, 160, 163, 164, 165, 166, 167, 168, 170, 172, 173, 174, 176, 177, 181, 184, 185, 186, 187, 192, 194, 200]\n"
          ]
        }
      ]
    },
    {
      "cell_type": "code",
      "source": [
        "\n",
        "# 5. Count completed todos for userId = 5\n",
        "completed_user5 = []\n",
        "for todo in all_todos:\n",
        "    if todo[\"userId\"] == 5 and todo[\"completed\"] == True:\n",
        "        completed_user5.append(todo)\n",
        "print(\"Number of completed todos for userId 5:\", len(completed_user5))"
      ],
      "metadata": {
        "colab": {
          "base_uri": "https://localhost:8080/",
          "height": 0
        },
        "id": "7sxcpd21N2pt",
        "outputId": "0b3cdaea-40e4-4645-813c-9bf7620d669d"
      },
      "execution_count": 17,
      "outputs": [
        {
          "output_type": "stream",
          "name": "stdout",
          "text": [
            "Number of completed todos for userId 5: 12\n"
          ]
        }
      ]
    }
  ]
}