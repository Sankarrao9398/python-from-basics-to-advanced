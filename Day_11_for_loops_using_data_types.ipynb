{
  "nbformat": 4,
  "nbformat_minor": 0,
  "metadata": {
    "colab": {
      "provenance": []
    },
    "kernelspec": {
      "name": "python3",
      "display_name": "Python 3"
    },
    "language_info": {
      "name": "python"
    }
  },
  "cells": [
    {
      "cell_type": "code",
      "execution_count": null,
      "metadata": {
        "colab": {
          "base_uri": "https://localhost:8080/"
        },
        "id": "bs-VJlAZBQSH",
        "outputId": "0de40d93-e378-414d-90a4-5f559f94d317"
      },
      "outputs": [
        {
          "output_type": "stream",
          "name": "stdout",
          "text": [
            "Color: red\n",
            "Color: green\n",
            "Color: blue\n"
          ]
        }
      ],
      "source": [
        "colors = (\"red\", \"green\", \"blue\")\n",
        "for color in colors:\n",
        "    print(\"Color:\", color)\n"
      ]
    },
    {
      "cell_type": "code",
      "source": [
        "info = {\"name\": \"Ravi\", \"age\": 25, \"city\": \"Hyderabad\"}\n",
        "for key in info:\n",
        "    print(\"Key:\", key)\n"
      ],
      "metadata": {
        "colab": {
          "base_uri": "https://localhost:8080/"
        },
        "id": "pIOVLdsRBR5i",
        "outputId": "a20dec28-400c-4266-b148-96404cb24092"
      },
      "execution_count": null,
      "outputs": [
        {
          "output_type": "stream",
          "name": "stdout",
          "text": [
            "Key: name\n",
            "Key: age\n",
            "Key: city\n"
          ]
        }
      ]
    },
    {
      "cell_type": "code",
      "source": [
        "info = {\"name\": \"Ravi\", \"age\": 25, \"city\": \"Hyderabad\"}\n",
        "for key, value in info.items():\n",
        "    print(key, \":\", value)\n"
      ],
      "metadata": {
        "colab": {
          "base_uri": "https://localhost:8080/"
        },
        "id": "lXqBFFQRBabN",
        "outputId": "639c852a-534b-4d67-d685-c9775195db31"
      },
      "execution_count": null,
      "outputs": [
        {
          "output_type": "stream",
          "name": "stdout",
          "text": [
            "name : Ravi\n",
            "age : 25\n",
            "city : Hyderabad\n"
          ]
        }
      ]
    },
    {
      "cell_type": "code",
      "source": [
        "student_marks = {\n",
        "    \"Ravi\": (80, 90, 85),\n",
        "    \"Anu\": (75, 88, 92)\n",
        "}\n",
        "for name, marks in student_marks.items():\n",
        "    print(name, \"has marks:\", marks)\n"
      ],
      "metadata": {
        "colab": {
          "base_uri": "https://localhost:8080/"
        },
        "id": "xD_A8KSHBfEc",
        "outputId": "41bf19b1-038c-44cc-ac01-6279aa402d8b"
      },
      "execution_count": null,
      "outputs": [
        {
          "output_type": "stream",
          "name": "stdout",
          "text": [
            "Ravi has marks: (80, 90, 85)\n",
            "Anu has marks: (75, 88, 92)\n"
          ]
        }
      ]
    },
    {
      "cell_type": "code",
      "source": [
        "students = [(\"Ravi\", 21), (\"Anu\", 20), (\"Raj\", 22)]\n",
        "for name, age in students:\n",
        "    print(name, \"is\", age, \"years old\")\n"
      ],
      "metadata": {
        "colab": {
          "base_uri": "https://localhost:8080/"
        },
        "id": "dsSTObVRBi0E",
        "outputId": "e7c06397-087e-4c5a-c1c1-9d191680ade0"
      },
      "execution_count": null,
      "outputs": [
        {
          "output_type": "stream",
          "name": "stdout",
          "text": [
            "Ravi is 21 years old\n",
            "Anu is 20 years old\n",
            "Raj is 22 years old\n"
          ]
        }
      ]
    },
    {
      "cell_type": "code",
      "source": [
        "people = (\n",
        "    {\"name\": \"Ravi\", \"age\": 21},\n",
        "    {\"name\": \"Anu\", \"age\": 20}\n",
        ")\n",
        "for person in people:\n",
        "    print(person[\"name\"], \"->\", person[\"age\"])\n"
      ],
      "metadata": {
        "colab": {
          "base_uri": "https://localhost:8080/"
        },
        "id": "uDnOCrzWBmTV",
        "outputId": "43a2b183-8ec0-4c4a-f856-db0160c5727c"
      },
      "execution_count": null,
      "outputs": [
        {
          "output_type": "stream",
          "name": "stdout",
          "text": [
            "Ravi -> 21\n",
            "Anu -> 20\n"
          ]
        }
      ]
    },
    {
      "cell_type": "code",
      "source": [
        "records = {\n",
        "    \"A001\": (\"Ravi\", 85),\n",
        "    \"A002\": (\"Anu\", 90)\n",
        "}\n",
        "for roll, (name, marks) in records.items():\n",
        "    print(\"Roll:\", roll, \"Name:\", name, \"Marks:\", marks)\n"
      ],
      "metadata": {
        "id": "1W6ooc0sBo11",
        "outputId": "51c0ae7a-df1f-45b0-c188-7b18048463ce",
        "colab": {
          "base_uri": "https://localhost:8080/"
        }
      },
      "execution_count": null,
      "outputs": [
        {
          "output_type": "stream",
          "name": "stdout",
          "text": [
            "Roll: A001 Name: Ravi Marks: 85\n",
            "Roll: A002 Name: Anu Marks: 90\n"
          ]
        }
      ]
    }
  ]
}