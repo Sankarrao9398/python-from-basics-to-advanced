{
  "nbformat": 4,
  "nbformat_minor": 0,
  "metadata": {
    "colab": {
      "provenance": []
    },
    "kernelspec": {
      "name": "python3",
      "display_name": "Python 3"
    },
    "language_info": {
      "name": "python"
    }
  },
  "cells": [
    {
      "cell_type": "markdown",
      "source": [
        "1. YouTube Video Quality Selection Function (Based on Criteria)\n",
        "This function prints the video quality based on internet speed or user input:\n"
      ],
      "metadata": {
        "id": "1kQMJvZyzTl5"
      }
    },
    {
      "cell_type": "code",
      "execution_count": null,
      "metadata": {
        "colab": {
          "base_uri": "https://localhost:8080/"
        },
        "id": "FtJ-KImjzNWC",
        "outputId": "56b4b1a3-efea-4472-f3cf-0692e5c6918f"
      },
      "outputs": [
        {
          "output_type": "stream",
          "name": "stdout",
          "text": [
            "Selected Quality: 480p (Standard)\n"
          ]
        }
      ],
      "source": [
        "def select_video_quality(speed_mbps):\n",
        "    if speed_mbps >= 10:\n",
        "        print(\"Selected Quality: 1080p (Full HD)\")\n",
        "    elif speed_mbps >= 5:\n",
        "        print(\"Selected Quality: 720p (HD)\")\n",
        "    elif speed_mbps >= 2:\n",
        "        print(\"Selected Quality: 480p (Standard)\")\n",
        "    elif speed_mbps >= 1:\n",
        "        print(\"Selected Quality: 360p (Low)\")\n",
        "    else:\n",
        "        print(\"Selected Quality: 144p (Very Low)\")\n",
        "\n",
        "select_video_quality(3)\n"
      ]
    },
    {
      "cell_type": "markdown",
      "source": [
        "ATM Program with PIN Check, Withdraw, and Deposit Functions"
      ],
      "metadata": {
        "id": "pGkHbmOezxqA"
      }
    },
    {
      "cell_type": "code",
      "source": [
        "def withdraw(balance):\n",
        "    amount = float(input(\"Enter amount to withdraw: \"))\n",
        "    if amount <= balance:\n",
        "        balance -= amount\n",
        "        print(f\"₹{amount} withdrawn. Remaining balance: ₹{balance}\")\n",
        "    else:\n",
        "        print(\"Insufficient balance.\")\n",
        "    return balance\n",
        "\n",
        "def deposit(balance):\n",
        "    amount = float(input(\"Enter amount to deposit: \"))\n",
        "    balance += amount\n",
        "    print(f\"₹{amount} deposited. New balance: ₹{balance}\")\n",
        "    return balance\n",
        "\n",
        "def atm():\n",
        "    correct_pin = \"1234\"\n",
        "    entered_pin = input(\"Enter your ATM PIN: \")\n",
        "\n",
        "    if entered_pin == correct_pin:\n",
        "        print(\"PIN accepted. Access granted.\")\n",
        "        balance = 1000\n",
        "        while True:\n",
        "            print(\"\\n1. Withdraw\\n2. Deposit\\n3. Exit\")\n",
        "            choice = input(\"Choose an option: \")\n",
        "\n",
        "            if choice == \"1\":\n",
        "                balance = withdraw(balance)\n",
        "            elif choice == \"2\":\n",
        "                balance = deposit(balance)\n",
        "            elif choice == \"3\":\n",
        "                print(\"Thank you for using the ATM.\")\n",
        "                break\n",
        "            else:\n",
        "                print(\"Invalid option.\")\n",
        "    else:\n",
        "        print(\"Incorrect PIN. Access denied.\")\n",
        "\n",
        "atm()\n"
      ],
      "metadata": {
        "colab": {
          "base_uri": "https://localhost:8080/"
        },
        "id": "5Y9gO6-XzTTh",
        "outputId": "c6fa5420-32c5-4c01-9e82-bbdf8848379f"
      },
      "execution_count": null,
      "outputs": [
        {
          "output_type": "stream",
          "name": "stdout",
          "text": [
            "Enter your ATM PIN: 1234\n",
            "PIN accepted. Access granted.\n",
            "\n",
            "1. Withdraw\n",
            "2. Deposit\n",
            "3. Exit\n",
            "Choose an option: 1\n",
            "Enter amount to withdraw: 1000\n",
            "₹1000.0 withdrawn. Remaining balance: ₹0.0\n",
            "\n",
            "1. Withdraw\n",
            "2. Deposit\n",
            "3. Exit\n",
            "Choose an option: 3\n",
            "Thank you for using the ATM.\n"
          ]
        }
      ]
    }
  ]
}